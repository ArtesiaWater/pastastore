{
 "cells": [
  {
   "cell_type": "markdown",
   "metadata": {},
   "source": [
    "# Introduction & guide to pastastore for `pastas.Project` users<a id=\"top\"></a>\n",
    "\n",
    "This notebook is a guide to help users coming from `pastas.Project` to transition to `pastastore`. The implementation has remained quite similar, despite the new (more flexible) design of the pastastore module.\n",
    "\n",
    "## Content\n",
    "1. [Introduction](#1)\n",
    "2. [Comparing pastas.Project and PastaStore](#2)\n",
    "  1. [Adding and accessing timeseries (oseries and stresses)](#2.1)\n",
    "  2. [Creating, adding and accessing models](#2.2)\n",
    "  3. [Overview of oseries, stresses and models](#2.3)\n",
    "  4. [Deleting items](#2.4)\n",
    "  5. [Bulk methods](#2.5)\n",
    "\n",
    "<hr>"
   ]
  },
  {
   "cell_type": "markdown",
   "metadata": {},
   "source": [
    "\n",
    "## [1. Introduction](#top)<a id=\"1\"></a>\n",
    "\n",
    "Let's start with a brief comparison between the original pastas.Project and the `pastastore` module. \n",
    "\n",
    "The `pastas.Project` implementation is relatively simple. The project consists of three \"libraries\" (for lack of a better name) containing the oseries, stresses and models. The oseries and stresses libraries are accessible in the form of pandas.DataFrames. The models are stored in a dictionary, with the model name used as key to access a particular model. \n",
    "\n",
    "The `pastastore` was designed based on these same principles. The main difference is the way the three libraries (for oseries, stresses and models) are implemented. Instead of using pandas.DataFrames and dictionaries, different implementations (called Connectors in `pastastore`) are available for storing timeseries and models. The different options each have different their own pros and cons:\n",
    "- `DictConnector`: Very simple to use, but everything is stored in-memory.\n",
    "- `PystoreConnector`: Requires a dependency that is a bit more challenging to install but uses the harddisk as a \"database\" which is easy to understand and use.\n",
    "- `ArcticConnector`: Requires external software (MongoDB) and is a bit more complex, but is the fastest and uses an actual database to store data (more robust).\n",
    "\n",
    "When using `pastastore` the user essentially has to make a choice as to which storage-type (Connector) they wish to use. In this notebook, we'll only be looking at the DictConnector, as this implementation looks a lot like the original `pastas.Project`.\n",
    "\n",
    "<hr>\n",
    "\n",
    "First let's import the necessary modules."
   ]
  },
  {
   "cell_type": "code",
   "execution_count": 1,
   "metadata": {},
   "outputs": [],
   "source": [
    "import pastastore as pst\n",
    "import os\n",
    "import pandas as pd\n",
    "import pastas as ps\n",
    "\n",
    "import sys\n",
    "sys.path.insert(1, \"../..\")"
   ]
  },
  {
   "cell_type": "markdown",
   "metadata": {},
   "source": [
    "## [2. Comparing pastas.Project and PastaStore](#top)<a id=\"2\"></a>\n",
    "\n",
    "In this section we'll be comparing `pastas.Project` to `pastastore`. For each common operation with pastas.Project the corresponding operation will be shown for the `pastastore`. The first step is to initialize an empty `pastas.Project` and an empty `PastaStore`.\n",
    "\n",
    "First the pastas.Project:"
   ]
  },
  {
   "cell_type": "code",
   "execution_count": 2,
   "metadata": {},
   "outputs": [
    {
     "name": "stderr",
     "output_type": "stream",
     "text": [
      "WARNING: DeprecationWarning: The Project class will be deprecated in a future version of Pastas (end of 2020)! Consider switching to pastastore: https://github.com/pastas/pastastore.\n"
     ]
    },
    {
     "data": {
      "text/plain": [
       "<pastas.project.project.Project at 0x7f17145c3250>"
      ]
     },
     "execution_count": 2,
     "metadata": {},
     "output_type": "execute_result"
    }
   ],
   "source": [
    "prj = ps.Project(\"pastas_project\")\n",
    "prj"
   ]
  },
  {
   "cell_type": "markdown",
   "metadata": {},
   "source": [
    "Next, the empty `PastaStore`. Recall that for the `PastaStore` we need to pick a storage method (Connector) to manage the storage and retrieval of data. In this case we'll be using the `DictConnector`."
   ]
  },
  {
   "cell_type": "code",
   "execution_count": 3,
   "metadata": {},
   "outputs": [
    {
     "data": {
      "text/plain": [
       "<PastaStore> pastastore: \n",
       " - <DictConnector object> 'pastastore': 0 oseries, 0 stresses, 0 models"
      ]
     },
     "execution_count": 3,
     "metadata": {},
     "output_type": "execute_result"
    }
   ],
   "source": [
    "conn = pst.DictConnector(\"pastastore\")\n",
    "store = pst.PastaStore(\"pastastore\", conn)\n",
    "store"
   ]
  },
  {
   "cell_type": "markdown",
   "metadata": {},
   "source": [
    "Now we can get started on comparing the two."
   ]
  },
  {
   "cell_type": "markdown",
   "metadata": {},
   "source": [
    "### [2.1 Adding and accessing timeseries (oseries and stresses)](#top)<a id=\"2.1\"></a>\n",
    "\n",
    "#### Adding oseries\n",
    "\n",
    "Load some groundwater level data and define metadata."
   ]
  },
  {
   "cell_type": "code",
   "execution_count": 4,
   "metadata": {},
   "outputs": [
    {
     "data": {
      "text/html": [
       "<div>\n",
       "<style scoped>\n",
       "    .dataframe tbody tr th:only-of-type {\n",
       "        vertical-align: middle;\n",
       "    }\n",
       "\n",
       "    .dataframe tbody tr th {\n",
       "        vertical-align: top;\n",
       "    }\n",
       "\n",
       "    .dataframe thead th {\n",
       "        text-align: right;\n",
       "    }\n",
       "</style>\n",
       "<table border=\"1\" class=\"dataframe\">\n",
       "  <thead>\n",
       "    <tr style=\"text-align: right;\">\n",
       "      <th></th>\n",
       "      <th>head</th>\n",
       "    </tr>\n",
       "    <tr>\n",
       "      <th>date</th>\n",
       "      <th></th>\n",
       "    </tr>\n",
       "  </thead>\n",
       "  <tbody>\n",
       "    <tr>\n",
       "      <th>1985-11-14</th>\n",
       "      <td>27.61</td>\n",
       "    </tr>\n",
       "    <tr>\n",
       "      <th>1985-11-28</th>\n",
       "      <td>27.73</td>\n",
       "    </tr>\n",
       "    <tr>\n",
       "      <th>1985-12-14</th>\n",
       "      <td>27.91</td>\n",
       "    </tr>\n",
       "    <tr>\n",
       "      <th>1985-12-28</th>\n",
       "      <td>28.13</td>\n",
       "    </tr>\n",
       "    <tr>\n",
       "      <th>1986-01-13</th>\n",
       "      <td>28.32</td>\n",
       "    </tr>\n",
       "  </tbody>\n",
       "</table>\n",
       "</div>"
      ],
      "text/plain": [
       "             head\n",
       "date             \n",
       "1985-11-14  27.61\n",
       "1985-11-28  27.73\n",
       "1985-12-14  27.91\n",
       "1985-12-28  28.13\n",
       "1986-01-13  28.32"
      ]
     },
     "execution_count": 4,
     "metadata": {},
     "output_type": "execute_result"
    }
   ],
   "source": [
    "datadir = \"../../tests/data/\"  # relative path to data directory\n",
    "oseries1 = pd.read_csv(os.path.join(\n",
    "    datadir, \"head_nb1.csv\"), index_col=0, parse_dates=True)\n",
    "ometa = {\"x\": 100300, \"y\": 400400}\n",
    "oseries1.head()"
   ]
  },
  {
   "cell_type": "markdown",
   "metadata": {},
   "source": [
    "Adding observation timeseries to a pastas.Project or PastaStore is basically the same"
   ]
  },
  {
   "cell_type": "code",
   "execution_count": 5,
   "metadata": {},
   "outputs": [
    {
     "name": "stderr",
     "output_type": "stream",
     "text": [
      "INFO: Cannot determine frequency of series oseries1: freq=None. The time series is irregular.\n"
     ]
    }
   ],
   "source": [
    "# pastas.Project:\n",
    "prj.add_oseries(oseries1, name=\"oseries1\", metadata=ometa)"
   ]
  },
  {
   "cell_type": "code",
   "execution_count": 6,
   "metadata": {},
   "outputs": [],
   "source": [
    "# pastastore:\n",
    "store.add_oseries(oseries1, \"oseries1\", metadata=ometa)"
   ]
  },
  {
   "cell_type": "markdown",
   "metadata": {},
   "source": [
    "#### Adding stresses\n",
    "Load precipitation and evaporation data"
   ]
  },
  {
   "cell_type": "code",
   "execution_count": 7,
   "metadata": {},
   "outputs": [],
   "source": [
    "# prec\n",
    "p = pd.read_csv(os.path.join(datadir, \"rain_nb1.csv\"),\n",
    "                index_col=0, parse_dates=True)\n",
    "p.columns = ['value']\n",
    "pmeta = {\"x\": 100300, \"y\": 400400}\n",
    "\n",
    "# evap\n",
    "e = pd.read_csv(os.path.join(datadir, \"evap_nb1.csv\"),\n",
    "                index_col=0, parse_dates=True)\n",
    "e.columns = [\"value\"]\n",
    "emeta = {\"x\": 100300, \"y\": 400400}"
   ]
  },
  {
   "cell_type": "markdown",
   "metadata": {},
   "source": [
    "Adding stresses to a pastas.Project or PastaStore is also similar:"
   ]
  },
  {
   "cell_type": "code",
   "execution_count": 8,
   "metadata": {},
   "outputs": [
    {
     "name": "stderr",
     "output_type": "stream",
     "text": [
      "INFO: Inferred frequency for time series prec1: freq=D\n",
      "INFO: Inferred frequency for time series evap1: freq=D\n"
     ]
    }
   ],
   "source": [
    "# pastas.Project\n",
    "prj.add_stress(p, \"prec1\", kind=\"prec\", metadata=pmeta)\n",
    "prj.add_stress(e, \"evap1\", kind=\"evap\", metadata=emeta)"
   ]
  },
  {
   "cell_type": "code",
   "execution_count": 9,
   "metadata": {},
   "outputs": [],
   "source": [
    "# pastastore\n",
    "store.add_stress(p, \"prec1\", kind=\"prec\", metadata=pmeta)\n",
    "store.add_stress(e, \"evap1\", kind=\"evap\", metadata=emeta)"
   ]
  },
  {
   "cell_type": "markdown",
   "metadata": {},
   "source": [
    "#### Accessing timeseries\n",
    "\n",
    "Accessing timeseries is one point where the two implementations differ. In pastas.Projects the oseries and stresses are stored in a pandas.DataFrame and can be acccessed from there. The timeseries are also converted into pastas.TimeSeries which contain extra information about how to up- or downscale the timeseries. \n",
    "\n",
    "In the PastaStore, when using a DictConnector, the timeseries are stored in dictionaries but are obtained using get-methods. The timeseries are stored as pandas.Series or pandas.DataFrames."
   ]
  },
  {
   "cell_type": "code",
   "execution_count": 10,
   "metadata": {},
   "outputs": [
    {
     "data": {
      "text/plain": [
       "TimeSeries(name=oseries1, freq=None, freq_original=None, tmin=1985-11-14 00:00:00, tmax=2015-06-28 00:00:00)"
      ]
     },
     "execution_count": 10,
     "metadata": {},
     "output_type": "execute_result"
    }
   ],
   "source": [
    "# pastas.Project\n",
    "prj.oseries.loc[\"oseries1\", \"series\"]"
   ]
  },
  {
   "cell_type": "code",
   "execution_count": 11,
   "metadata": {},
   "outputs": [
    {
     "data": {
      "text/html": [
       "<div>\n",
       "<style scoped>\n",
       "    .dataframe tbody tr th:only-of-type {\n",
       "        vertical-align: middle;\n",
       "    }\n",
       "\n",
       "    .dataframe tbody tr th {\n",
       "        vertical-align: top;\n",
       "    }\n",
       "\n",
       "    .dataframe thead th {\n",
       "        text-align: right;\n",
       "    }\n",
       "</style>\n",
       "<table border=\"1\" class=\"dataframe\">\n",
       "  <thead>\n",
       "    <tr style=\"text-align: right;\">\n",
       "      <th></th>\n",
       "      <th>oseries1</th>\n",
       "    </tr>\n",
       "    <tr>\n",
       "      <th>date</th>\n",
       "      <th></th>\n",
       "    </tr>\n",
       "  </thead>\n",
       "  <tbody>\n",
       "    <tr>\n",
       "      <th>1985-11-14</th>\n",
       "      <td>27.61</td>\n",
       "    </tr>\n",
       "    <tr>\n",
       "      <th>1985-11-28</th>\n",
       "      <td>27.73</td>\n",
       "    </tr>\n",
       "    <tr>\n",
       "      <th>1985-12-14</th>\n",
       "      <td>27.91</td>\n",
       "    </tr>\n",
       "    <tr>\n",
       "      <th>1985-12-28</th>\n",
       "      <td>28.13</td>\n",
       "    </tr>\n",
       "    <tr>\n",
       "      <th>1986-01-13</th>\n",
       "      <td>28.32</td>\n",
       "    </tr>\n",
       "    <tr>\n",
       "      <th>...</th>\n",
       "      <td>...</td>\n",
       "    </tr>\n",
       "    <tr>\n",
       "      <th>2015-04-28</th>\n",
       "      <td>28.23</td>\n",
       "    </tr>\n",
       "    <tr>\n",
       "      <th>2015-05-14</th>\n",
       "      <td>28.08</td>\n",
       "    </tr>\n",
       "    <tr>\n",
       "      <th>2015-05-28</th>\n",
       "      <td>27.82</td>\n",
       "    </tr>\n",
       "    <tr>\n",
       "      <th>2015-06-14</th>\n",
       "      <td>27.75</td>\n",
       "    </tr>\n",
       "    <tr>\n",
       "      <th>2015-06-28</th>\n",
       "      <td>27.57</td>\n",
       "    </tr>\n",
       "  </tbody>\n",
       "</table>\n",
       "<p>644 rows × 1 columns</p>\n",
       "</div>"
      ],
      "text/plain": [
       "            oseries1\n",
       "date                \n",
       "1985-11-14     27.61\n",
       "1985-11-28     27.73\n",
       "1985-12-14     27.91\n",
       "1985-12-28     28.13\n",
       "1986-01-13     28.32\n",
       "...              ...\n",
       "2015-04-28     28.23\n",
       "2015-05-14     28.08\n",
       "2015-05-28     27.82\n",
       "2015-06-14     27.75\n",
       "2015-06-28     27.57\n",
       "\n",
       "[644 rows x 1 columns]"
      ]
     },
     "execution_count": 11,
     "metadata": {},
     "output_type": "execute_result"
    }
   ],
   "source": [
    "# pastastore\n",
    "store.get_oseries(\"oseries1\")"
   ]
  },
  {
   "cell_type": "markdown",
   "metadata": {},
   "source": [
    "For stresses this works the same way with the `store.get_stresses()` command."
   ]
  },
  {
   "cell_type": "markdown",
   "metadata": {},
   "source": [
    "### [2.2 Creating, adding and accessing models](#top)<a id=\"2.2\"></a>\n",
    "\n",
    "#### Creating a model (and storing it)\n",
    "In pastas.Project a model is automatically added to the models dictionary when it is created. Adding recharge is a separate command.\n",
    "\n",
    "In the PastaStore, a model is created but not automatically added to the store. A separate command is used to actually store the model. "
   ]
  },
  {
   "cell_type": "code",
   "execution_count": 12,
   "metadata": {},
   "outputs": [
    {
     "data": {
      "text/plain": [
       "Model(oseries=oseries1, name=oseries1, constant=True, noisemodel=True)"
      ]
     },
     "execution_count": 12,
     "metadata": {},
     "output_type": "execute_result"
    }
   ],
   "source": [
    "# pastas.Project\n",
    "ml = prj.add_model(\"oseries1\")\n",
    "prj.add_recharge()\n",
    "ml"
   ]
  },
  {
   "cell_type": "code",
   "execution_count": 13,
   "metadata": {},
   "outputs": [
    {
     "name": "stderr",
     "output_type": "stream",
     "text": [
      "INFO: Cannot determine frequency of series oseries1: freq=None. The time series is irregular.\n",
      "INFO: Inferred frequency for time series prec1: freq=D\n",
      "INFO: Inferred frequency for time series evap1: freq=D\n"
     ]
    },
    {
     "data": {
      "text/plain": [
       "Model(oseries=oseries1, name=oseries1, constant=True, noisemodel=True)"
      ]
     },
     "execution_count": 13,
     "metadata": {},
     "output_type": "execute_result"
    }
   ],
   "source": [
    "# pastastore\n",
    "ml = store.create_model(\"oseries1\", add_recharge=True)\n",
    "store.add_model(ml)\n",
    "ml"
   ]
  },
  {
   "cell_type": "markdown",
   "metadata": {},
   "source": [
    "Obtaining a model is slightly different in the two implementations"
   ]
  },
  {
   "cell_type": "code",
   "execution_count": 14,
   "metadata": {},
   "outputs": [
    {
     "data": {
      "text/plain": [
       "Model(oseries=oseries1, name=oseries1, constant=True, noisemodel=True)"
      ]
     },
     "execution_count": 14,
     "metadata": {},
     "output_type": "execute_result"
    }
   ],
   "source": [
    "# pastas.Project\n",
    "ml = prj.models[\"oseries1\"]\n",
    "ml"
   ]
  },
  {
   "cell_type": "code",
   "execution_count": 15,
   "metadata": {},
   "outputs": [
    {
     "name": "stderr",
     "output_type": "stream",
     "text": [
      "INFO: Cannot determine frequency of series oseries1: freq=None. The time series is irregular.\n",
      "INFO: User provided frequency for time series prec1: freq=D\n",
      "INFO: User provided frequency for time series evap1: freq=D\n"
     ]
    },
    {
     "data": {
      "text/plain": [
       "Model(oseries=oseries1, name=oseries1, constant=True, noisemodel=True)"
      ]
     },
     "execution_count": 15,
     "metadata": {},
     "output_type": "execute_result"
    }
   ],
   "source": [
    "# pastastore\n",
    "ml = store.get_models(\"oseries1\")\n",
    "ml"
   ]
  },
  {
   "cell_type": "markdown",
   "metadata": {},
   "source": [
    "### [2.3 Overview of oseries, stresses and models](#top)<a id=\"2.3\"></a>\n",
    "\n",
    "Getting an overview of oseries, stresses and models is similar in both implementations, but in the PastaStore, the overview of the timeseries only contains the metadata (and not the timeseries itself), and the models attribute only returns a list of models and not the dictionary containing the models. "
   ]
  },
  {
   "cell_type": "markdown",
   "metadata": {},
   "source": [
    "#### oseries"
   ]
  },
  {
   "cell_type": "code",
   "execution_count": 16,
   "metadata": {},
   "outputs": [
    {
     "data": {
      "text/html": [
       "<div>\n",
       "<style scoped>\n",
       "    .dataframe tbody tr th:only-of-type {\n",
       "        vertical-align: middle;\n",
       "    }\n",
       "\n",
       "    .dataframe tbody tr th {\n",
       "        vertical-align: top;\n",
       "    }\n",
       "\n",
       "    .dataframe thead th {\n",
       "        text-align: right;\n",
       "    }\n",
       "</style>\n",
       "<table border=\"1\" class=\"dataframe\">\n",
       "  <thead>\n",
       "    <tr style=\"text-align: right;\">\n",
       "      <th></th>\n",
       "      <th>name</th>\n",
       "      <th>series</th>\n",
       "      <th>kind</th>\n",
       "      <th>x</th>\n",
       "      <th>y</th>\n",
       "      <th>z</th>\n",
       "      <th>projection</th>\n",
       "    </tr>\n",
       "  </thead>\n",
       "  <tbody>\n",
       "    <tr>\n",
       "      <th>oseries1</th>\n",
       "      <td>oseries1</td>\n",
       "      <td>TimeSeries(name=oseries1, freq=None, freq_orig...</td>\n",
       "      <td>oseries</td>\n",
       "      <td>100300</td>\n",
       "      <td>400400</td>\n",
       "      <td>0</td>\n",
       "      <td>NaN</td>\n",
       "    </tr>\n",
       "  </tbody>\n",
       "</table>\n",
       "</div>"
      ],
      "text/plain": [
       "              name                                             series  \\\n",
       "oseries1  oseries1  TimeSeries(name=oseries1, freq=None, freq_orig...   \n",
       "\n",
       "             kind       x       y  z  projection  \n",
       "oseries1  oseries  100300  400400  0         NaN  "
      ]
     },
     "execution_count": 16,
     "metadata": {},
     "output_type": "execute_result"
    }
   ],
   "source": [
    "# pastas.Project\n",
    "prj.oseries"
   ]
  },
  {
   "cell_type": "code",
   "execution_count": 17,
   "metadata": {},
   "outputs": [
    {
     "data": {
      "text/html": [
       "<div>\n",
       "<style scoped>\n",
       "    .dataframe tbody tr th:only-of-type {\n",
       "        vertical-align: middle;\n",
       "    }\n",
       "\n",
       "    .dataframe tbody tr th {\n",
       "        vertical-align: top;\n",
       "    }\n",
       "\n",
       "    .dataframe thead th {\n",
       "        text-align: right;\n",
       "    }\n",
       "</style>\n",
       "<table border=\"1\" class=\"dataframe\">\n",
       "  <thead>\n",
       "    <tr style=\"text-align: right;\">\n",
       "      <th></th>\n",
       "      <th>x</th>\n",
       "      <th>y</th>\n",
       "    </tr>\n",
       "    <tr>\n",
       "      <th>name</th>\n",
       "      <th></th>\n",
       "      <th></th>\n",
       "    </tr>\n",
       "  </thead>\n",
       "  <tbody>\n",
       "    <tr>\n",
       "      <th>oseries1</th>\n",
       "      <td>100300</td>\n",
       "      <td>400400</td>\n",
       "    </tr>\n",
       "  </tbody>\n",
       "</table>\n",
       "</div>"
      ],
      "text/plain": [
       "               x       y\n",
       "name                    \n",
       "oseries1  100300  400400"
      ]
     },
     "execution_count": 17,
     "metadata": {},
     "output_type": "execute_result"
    }
   ],
   "source": [
    "# pastastore\n",
    "store.oseries"
   ]
  },
  {
   "cell_type": "markdown",
   "metadata": {},
   "source": [
    "#### stresses"
   ]
  },
  {
   "cell_type": "code",
   "execution_count": 18,
   "metadata": {},
   "outputs": [
    {
     "data": {
      "text/html": [
       "<div>\n",
       "<style scoped>\n",
       "    .dataframe tbody tr th:only-of-type {\n",
       "        vertical-align: middle;\n",
       "    }\n",
       "\n",
       "    .dataframe tbody tr th {\n",
       "        vertical-align: top;\n",
       "    }\n",
       "\n",
       "    .dataframe thead th {\n",
       "        text-align: right;\n",
       "    }\n",
       "</style>\n",
       "<table border=\"1\" class=\"dataframe\">\n",
       "  <thead>\n",
       "    <tr style=\"text-align: right;\">\n",
       "      <th></th>\n",
       "      <th>name</th>\n",
       "      <th>series</th>\n",
       "      <th>kind</th>\n",
       "      <th>x</th>\n",
       "      <th>y</th>\n",
       "      <th>z</th>\n",
       "      <th>projection</th>\n",
       "    </tr>\n",
       "  </thead>\n",
       "  <tbody>\n",
       "    <tr>\n",
       "      <th>prec1</th>\n",
       "      <td>prec1</td>\n",
       "      <td>TimeSeries(name=prec1, freq=None, freq_origina...</td>\n",
       "      <td>prec</td>\n",
       "      <td>100300</td>\n",
       "      <td>400400</td>\n",
       "      <td>0</td>\n",
       "      <td>NaN</td>\n",
       "    </tr>\n",
       "    <tr>\n",
       "      <th>evap1</th>\n",
       "      <td>evap1</td>\n",
       "      <td>TimeSeries(name=evap1, freq=None, freq_origina...</td>\n",
       "      <td>evap</td>\n",
       "      <td>100300</td>\n",
       "      <td>400400</td>\n",
       "      <td>0</td>\n",
       "      <td>NaN</td>\n",
       "    </tr>\n",
       "  </tbody>\n",
       "</table>\n",
       "</div>"
      ],
      "text/plain": [
       "        name                                             series  kind       x  \\\n",
       "prec1  prec1  TimeSeries(name=prec1, freq=None, freq_origina...  prec  100300   \n",
       "evap1  evap1  TimeSeries(name=evap1, freq=None, freq_origina...  evap  100300   \n",
       "\n",
       "            y  z  projection  \n",
       "prec1  400400  0         NaN  \n",
       "evap1  400400  0         NaN  "
      ]
     },
     "execution_count": 18,
     "metadata": {},
     "output_type": "execute_result"
    }
   ],
   "source": [
    "# pastas.Project\n",
    "prj.stresses"
   ]
  },
  {
   "cell_type": "code",
   "execution_count": 19,
   "metadata": {},
   "outputs": [
    {
     "data": {
      "text/html": [
       "<div>\n",
       "<style scoped>\n",
       "    .dataframe tbody tr th:only-of-type {\n",
       "        vertical-align: middle;\n",
       "    }\n",
       "\n",
       "    .dataframe tbody tr th {\n",
       "        vertical-align: top;\n",
       "    }\n",
       "\n",
       "    .dataframe thead th {\n",
       "        text-align: right;\n",
       "    }\n",
       "</style>\n",
       "<table border=\"1\" class=\"dataframe\">\n",
       "  <thead>\n",
       "    <tr style=\"text-align: right;\">\n",
       "      <th></th>\n",
       "      <th>x</th>\n",
       "      <th>y</th>\n",
       "      <th>kind</th>\n",
       "    </tr>\n",
       "    <tr>\n",
       "      <th>name</th>\n",
       "      <th></th>\n",
       "      <th></th>\n",
       "      <th></th>\n",
       "    </tr>\n",
       "  </thead>\n",
       "  <tbody>\n",
       "    <tr>\n",
       "      <th>prec1</th>\n",
       "      <td>100300.0</td>\n",
       "      <td>400400.0</td>\n",
       "      <td>prec</td>\n",
       "    </tr>\n",
       "    <tr>\n",
       "      <th>evap1</th>\n",
       "      <td>100300.0</td>\n",
       "      <td>400400.0</td>\n",
       "      <td>evap</td>\n",
       "    </tr>\n",
       "  </tbody>\n",
       "</table>\n",
       "</div>"
      ],
      "text/plain": [
       "              x         y  kind\n",
       "name                           \n",
       "prec1  100300.0  400400.0  prec\n",
       "evap1  100300.0  400400.0  evap"
      ]
     },
     "execution_count": 19,
     "metadata": {},
     "output_type": "execute_result"
    }
   ],
   "source": [
    "# pastastore\n",
    "store.stresses"
   ]
  },
  {
   "cell_type": "markdown",
   "metadata": {},
   "source": [
    "#### models"
   ]
  },
  {
   "cell_type": "code",
   "execution_count": 20,
   "metadata": {},
   "outputs": [
    {
     "data": {
      "text/plain": [
       "{'oseries1': Model(oseries=oseries1, name=oseries1, constant=True, noisemodel=True)}"
      ]
     },
     "execution_count": 20,
     "metadata": {},
     "output_type": "execute_result"
    }
   ],
   "source": [
    "# pastas.Project\n",
    "prj.models"
   ]
  },
  {
   "cell_type": "code",
   "execution_count": 21,
   "metadata": {},
   "outputs": [
    {
     "data": {
      "text/plain": [
       "['oseries1']"
      ]
     },
     "execution_count": 21,
     "metadata": {},
     "output_type": "execute_result"
    }
   ],
   "source": [
    "# pastastore\n",
    "store.models"
   ]
  },
  {
   "cell_type": "markdown",
   "metadata": {},
   "source": [
    "### [2.4 Deleting items](#top)<a id=\"2.4\"></a>\n",
    "\n",
    "Deleting items is similar in both implementations. Here we delete a model, deleting oseries and stresses can be done with the `del_oseries()` or `del_stresses()` methods."
   ]
  },
  {
   "cell_type": "code",
   "execution_count": 22,
   "metadata": {},
   "outputs": [
    {
     "name": "stderr",
     "output_type": "stream",
     "text": [
      "INFO: Model with name Model(oseries=oseries1, name=oseries1, constant=True, noisemodel=True) deleted from the database.\n"
     ]
    }
   ],
   "source": [
    "# pastas.Project\n",
    "prj.del_model(\"oseries1\")"
   ]
  },
  {
   "cell_type": "code",
   "execution_count": 23,
   "metadata": {},
   "outputs": [],
   "source": [
    "# pastastore\n",
    "store.del_models(\"oseries1\")"
   ]
  },
  {
   "cell_type": "markdown",
   "metadata": {},
   "source": [
    "### [2.5 Bulk methods](#top)<a id=\"2.5\"></a>\n",
    "\n",
    "Both implementations include several methods to perform actions in bulk (e.g. creating models for all oseries). To showcase these methods, we load some more data and add to the project and the store."
   ]
  },
  {
   "cell_type": "code",
   "execution_count": 24,
   "metadata": {},
   "outputs": [],
   "source": [
    "# oseries 2\n",
    "o2 = pd.read_csv(os.path.join(datadir, \"obs.csv\"),\n",
    "                 index_col=0, parse_dates=True)\n",
    "o2.index.name = \"oseries2\"\n",
    "ometa2 = {\"x\": 100000, \"y\": 400000}\n",
    "\n",
    "# prec 2\n",
    "p2 = pd.read_csv(os.path.join(datadir, \"rain.csv\"),\n",
    "                 index_col=0, parse_dates=True)\n",
    "pmeta2 = {\"x\": 100000, \"y\": 400000}\n",
    "\n",
    "# evap 2\n",
    "e2 = pd.read_csv(os.path.join(datadir, \"evap.csv\"),\n",
    "                 index_col=0, parse_dates=True)\n",
    "emeta2 = {\"x\": 100000, \"y\": 400000}"
   ]
  },
  {
   "cell_type": "markdown",
   "metadata": {},
   "source": [
    "We set the pastas logger to be more quiet to reduce the number of messages it prints to the screen."
   ]
  },
  {
   "cell_type": "code",
   "execution_count": 25,
   "metadata": {},
   "outputs": [],
   "source": [
    "ps.logger.setLevel(\"ERROR\")"
   ]
  },
  {
   "cell_type": "markdown",
   "metadata": {},
   "source": [
    "Add the data"
   ]
  },
  {
   "cell_type": "code",
   "execution_count": 26,
   "metadata": {},
   "outputs": [],
   "source": [
    "# pastas.Project\n",
    "prj.add_oseries(o2, \"oseries2\", metadata=ometa2)\n",
    "prj.add_stress(p2, \"prec2\", kind=\"prec\", metadata=pmeta2)\n",
    "prj.add_stress(e2, \"evap2\", kind=\"evap\", metadata=emeta2)"
   ]
  },
  {
   "cell_type": "code",
   "execution_count": 27,
   "metadata": {},
   "outputs": [
    {
     "data": {
      "text/plain": [
       "<PastaStore> pastastore: \n",
       " - <DictConnector object> 'pastastore': 2 oseries, 4 stresses, 0 models"
      ]
     },
     "execution_count": 27,
     "metadata": {},
     "output_type": "execute_result"
    }
   ],
   "source": [
    "# pastastore\n",
    "store.add_oseries(o2, \"oseries2\", metadata=ometa2)\n",
    "store.add_stress(p2, \"prec2\", kind=\"prec\", metadata=pmeta2)\n",
    "store.add_stress(e2, \"evap2\", kind=\"evap\", metadata=emeta2)\n",
    "store"
   ]
  },
  {
   "cell_type": "markdown",
   "metadata": {},
   "source": [
    "#### Get nearest stresses\n",
    "\n",
    "Obtaining the nearest stresses of a particular type for each oseries"
   ]
  },
  {
   "cell_type": "code",
   "execution_count": 28,
   "metadata": {},
   "outputs": [
    {
     "data": {
      "text/html": [
       "<div>\n",
       "<style scoped>\n",
       "    .dataframe tbody tr th:only-of-type {\n",
       "        vertical-align: middle;\n",
       "    }\n",
       "\n",
       "    .dataframe tbody tr th {\n",
       "        vertical-align: top;\n",
       "    }\n",
       "\n",
       "    .dataframe thead th {\n",
       "        text-align: right;\n",
       "    }\n",
       "</style>\n",
       "<table border=\"1\" class=\"dataframe\">\n",
       "  <thead>\n",
       "    <tr style=\"text-align: right;\">\n",
       "      <th></th>\n",
       "      <th>0</th>\n",
       "    </tr>\n",
       "  </thead>\n",
       "  <tbody>\n",
       "    <tr>\n",
       "      <th>oseries1</th>\n",
       "      <td>prec1</td>\n",
       "    </tr>\n",
       "    <tr>\n",
       "      <th>oseries2</th>\n",
       "      <td>prec2</td>\n",
       "    </tr>\n",
       "  </tbody>\n",
       "</table>\n",
       "</div>"
      ],
      "text/plain": [
       "              0\n",
       "oseries1  prec1\n",
       "oseries2  prec2"
      ]
     },
     "execution_count": 28,
     "metadata": {},
     "output_type": "execute_result"
    }
   ],
   "source": [
    "# pastas.Project\n",
    "prj.get_nearest_stresses(kind=\"prec\")"
   ]
  },
  {
   "cell_type": "code",
   "execution_count": 29,
   "metadata": {},
   "outputs": [
    {
     "data": {
      "text/html": [
       "<div>\n",
       "<style scoped>\n",
       "    .dataframe tbody tr th:only-of-type {\n",
       "        vertical-align: middle;\n",
       "    }\n",
       "\n",
       "    .dataframe tbody tr th {\n",
       "        vertical-align: top;\n",
       "    }\n",
       "\n",
       "    .dataframe thead th {\n",
       "        text-align: right;\n",
       "    }\n",
       "</style>\n",
       "<table border=\"1\" class=\"dataframe\">\n",
       "  <thead>\n",
       "    <tr style=\"text-align: right;\">\n",
       "      <th></th>\n",
       "      <th>0</th>\n",
       "    </tr>\n",
       "  </thead>\n",
       "  <tbody>\n",
       "    <tr>\n",
       "      <th>oseries1</th>\n",
       "      <td>prec1</td>\n",
       "    </tr>\n",
       "    <tr>\n",
       "      <th>oseries2</th>\n",
       "      <td>prec2</td>\n",
       "    </tr>\n",
       "  </tbody>\n",
       "</table>\n",
       "</div>"
      ],
      "text/plain": [
       "              0\n",
       "oseries1  prec1\n",
       "oseries2  prec2"
      ]
     },
     "execution_count": 29,
     "metadata": {},
     "output_type": "execute_result"
    }
   ],
   "source": [
    "# pastastore\n",
    "store.get_nearest_stresses(kind=\"prec\")"
   ]
  },
  {
   "cell_type": "markdown",
   "metadata": {},
   "source": [
    "#### Creating and solving multiple models\n",
    "\n",
    "Creating and solving several models at once"
   ]
  },
  {
   "cell_type": "code",
   "execution_count": 30,
   "metadata": {},
   "outputs": [
    {
     "name": "stdout",
     "output_type": "stream",
     "text": [
      "solving model -> oseries1\n",
      "solving model -> oseries2\n"
     ]
    }
   ],
   "source": [
    "# pastas.Project\n",
    "prj.add_models()\n",
    "prj.add_recharge()\n",
    "prj.solve_models(verbose=True)"
   ]
  },
  {
   "cell_type": "code",
   "execution_count": 31,
   "metadata": {},
   "outputs": [
    {
     "name": "stderr",
     "output_type": "stream",
     "text": [
      "Bulk creation models: 100%|██████████| 2/2 [00:00<00:00, 13.98it/s]\n",
      "Solving models: 100%|██████████| 2/2 [00:01<00:00,  1.17it/s]\n"
     ]
    },
    {
     "data": {
      "text/plain": [
       "<PastaStore> pastastore: \n",
       " - <DictConnector object> 'pastastore': 2 oseries, 4 stresses, 2 models"
      ]
     },
     "execution_count": 31,
     "metadata": {},
     "output_type": "execute_result"
    }
   ],
   "source": [
    "# pastastore\n",
    "store.create_models_bulk(add_recharge=True, store=True)\n",
    "store.solve_models()\n",
    "\n",
    "# This can also be done in one command:\n",
    "# store.create_models(add_recharge=True, store=True, solve=True, report=False)\n",
    "\n",
    "store"
   ]
  },
  {
   "cell_type": "markdown",
   "metadata": {},
   "source": [
    "#### Parameters\n",
    "\n",
    "Obtaining certain parameter values for all models"
   ]
  },
  {
   "cell_type": "code",
   "execution_count": 32,
   "metadata": {},
   "outputs": [
    {
     "data": {
      "text/html": [
       "<div>\n",
       "<style scoped>\n",
       "    .dataframe tbody tr th:only-of-type {\n",
       "        vertical-align: middle;\n",
       "    }\n",
       "\n",
       "    .dataframe tbody tr th {\n",
       "        vertical-align: top;\n",
       "    }\n",
       "\n",
       "    .dataframe thead th {\n",
       "        text-align: right;\n",
       "    }\n",
       "</style>\n",
       "<table border=\"1\" class=\"dataframe\">\n",
       "  <thead>\n",
       "    <tr style=\"text-align: right;\">\n",
       "      <th></th>\n",
       "      <th>recharge_A</th>\n",
       "      <th>recharge_a</th>\n",
       "      <th>recharge_n</th>\n",
       "      <th>recharge_f</th>\n",
       "      <th>constant_d</th>\n",
       "      <th>noise_alpha</th>\n",
       "    </tr>\n",
       "  </thead>\n",
       "  <tbody>\n",
       "    <tr>\n",
       "      <th>oseries1</th>\n",
       "      <td>682.464954</td>\n",
       "      <td>150.381840</td>\n",
       "      <td>1.018206</td>\n",
       "      <td>-1.271062</td>\n",
       "      <td>27.882297</td>\n",
       "      <td>50.095143</td>\n",
       "    </tr>\n",
       "    <tr>\n",
       "      <th>oseries2</th>\n",
       "      <td>601.962925</td>\n",
       "      <td>143.386742</td>\n",
       "      <td>1.019942</td>\n",
       "      <td>-1.373329</td>\n",
       "      <td>28.043446</td>\n",
       "      <td>69.749088</td>\n",
       "    </tr>\n",
       "  </tbody>\n",
       "</table>\n",
       "</div>"
      ],
      "text/plain": [
       "          recharge_A  recharge_a  recharge_n  recharge_f  constant_d  \\\n",
       "oseries1  682.464954  150.381840    1.018206   -1.271062   27.882297   \n",
       "oseries2  601.962925  143.386742    1.019942   -1.373329   28.043446   \n",
       "\n",
       "          noise_alpha  \n",
       "oseries1    50.095143  \n",
       "oseries2    69.749088  "
      ]
     },
     "execution_count": 32,
     "metadata": {},
     "output_type": "execute_result"
    }
   ],
   "source": [
    "# pastas.Project\n",
    "prj.get_parameters([\"recharge_A\", \"recharge_a\", \"recharge_n\",\n",
    "                   \"recharge_f\", \"constant_d\", \"noise_alpha\"])"
   ]
  },
  {
   "cell_type": "code",
   "execution_count": 33,
   "metadata": {},
   "outputs": [
    {
     "data": {
      "text/html": [
       "<div>\n",
       "<style scoped>\n",
       "    .dataframe tbody tr th:only-of-type {\n",
       "        vertical-align: middle;\n",
       "    }\n",
       "\n",
       "    .dataframe tbody tr th {\n",
       "        vertical-align: top;\n",
       "    }\n",
       "\n",
       "    .dataframe thead th {\n",
       "        text-align: right;\n",
       "    }\n",
       "</style>\n",
       "<table border=\"1\" class=\"dataframe\">\n",
       "  <thead>\n",
       "    <tr style=\"text-align: right;\">\n",
       "      <th></th>\n",
       "      <th>recharge_A</th>\n",
       "      <th>recharge_n</th>\n",
       "      <th>recharge_a</th>\n",
       "      <th>recharge_f</th>\n",
       "      <th>constant_d</th>\n",
       "      <th>noise_alpha</th>\n",
       "    </tr>\n",
       "  </thead>\n",
       "  <tbody>\n",
       "    <tr>\n",
       "      <th>oseries1</th>\n",
       "      <td>682.464954</td>\n",
       "      <td>1.018206</td>\n",
       "      <td>150.381840</td>\n",
       "      <td>-1.271062</td>\n",
       "      <td>27.882297</td>\n",
       "      <td>50.095143</td>\n",
       "    </tr>\n",
       "    <tr>\n",
       "      <th>oseries2</th>\n",
       "      <td>601.962925</td>\n",
       "      <td>1.019942</td>\n",
       "      <td>143.386742</td>\n",
       "      <td>-1.373329</td>\n",
       "      <td>28.043446</td>\n",
       "      <td>69.749088</td>\n",
       "    </tr>\n",
       "  </tbody>\n",
       "</table>\n",
       "</div>"
      ],
      "text/plain": [
       "          recharge_A  recharge_n  recharge_a  recharge_f  constant_d  \\\n",
       "oseries1  682.464954    1.018206  150.381840   -1.271062   27.882297   \n",
       "oseries2  601.962925    1.019942  143.386742   -1.373329   28.043446   \n",
       "\n",
       "          noise_alpha  \n",
       "oseries1    50.095143  \n",
       "oseries2    69.749088  "
      ]
     },
     "execution_count": 33,
     "metadata": {},
     "output_type": "execute_result"
    }
   ],
   "source": [
    "# pastastore\n",
    "store.get_parameters()"
   ]
  },
  {
   "cell_type": "markdown",
   "metadata": {},
   "source": [
    "#### Statistics\n",
    "\n",
    "Get model statistics for each model"
   ]
  },
  {
   "cell_type": "code",
   "execution_count": 34,
   "metadata": {},
   "outputs": [
    {
     "data": {
      "text/html": [
       "<div>\n",
       "<style scoped>\n",
       "    .dataframe tbody tr th:only-of-type {\n",
       "        vertical-align: middle;\n",
       "    }\n",
       "\n",
       "    .dataframe tbody tr th {\n",
       "        vertical-align: top;\n",
       "    }\n",
       "\n",
       "    .dataframe thead th {\n",
       "        text-align: right;\n",
       "    }\n",
       "</style>\n",
       "<table border=\"1\" class=\"dataframe\">\n",
       "  <thead>\n",
       "    <tr style=\"text-align: right;\">\n",
       "      <th></th>\n",
       "      <th>evp</th>\n",
       "      <th>aic</th>\n",
       "      <th>rmse</th>\n",
       "    </tr>\n",
       "  </thead>\n",
       "  <tbody>\n",
       "    <tr>\n",
       "      <th>oseries1</th>\n",
       "      <td>92.915123</td>\n",
       "      <td>916.144521</td>\n",
       "      <td>0.114455</td>\n",
       "    </tr>\n",
       "    <tr>\n",
       "      <th>oseries2</th>\n",
       "      <td>88.478824</td>\n",
       "      <td>-23.443866</td>\n",
       "      <td>0.126184</td>\n",
       "    </tr>\n",
       "  </tbody>\n",
       "</table>\n",
       "</div>"
      ],
      "text/plain": [
       "                evp         aic      rmse\n",
       "oseries1  92.915123  916.144521  0.114455\n",
       "oseries2  88.478824  -23.443866  0.126184"
      ]
     },
     "execution_count": 34,
     "metadata": {},
     "output_type": "execute_result"
    }
   ],
   "source": [
    "# pastas.Project\n",
    "prj.get_statistics([\"evp\", \"aic\", \"rmse\"])"
   ]
  },
  {
   "cell_type": "code",
   "execution_count": 35,
   "metadata": {},
   "outputs": [
    {
     "data": {
      "text/html": [
       "<div>\n",
       "<style scoped>\n",
       "    .dataframe tbody tr th:only-of-type {\n",
       "        vertical-align: middle;\n",
       "    }\n",
       "\n",
       "    .dataframe tbody tr th {\n",
       "        vertical-align: top;\n",
       "    }\n",
       "\n",
       "    .dataframe thead th {\n",
       "        text-align: right;\n",
       "    }\n",
       "</style>\n",
       "<table border=\"1\" class=\"dataframe\">\n",
       "  <thead>\n",
       "    <tr style=\"text-align: right;\">\n",
       "      <th></th>\n",
       "      <th>evp</th>\n",
       "      <th>aic</th>\n",
       "      <th>rmse</th>\n",
       "    </tr>\n",
       "  </thead>\n",
       "  <tbody>\n",
       "    <tr>\n",
       "      <th>oseries1</th>\n",
       "      <td>92.915123</td>\n",
       "      <td>916.144521</td>\n",
       "      <td>0.114455</td>\n",
       "    </tr>\n",
       "    <tr>\n",
       "      <th>oseries2</th>\n",
       "      <td>88.478824</td>\n",
       "      <td>-23.443866</td>\n",
       "      <td>0.126184</td>\n",
       "    </tr>\n",
       "  </tbody>\n",
       "</table>\n",
       "</div>"
      ],
      "text/plain": [
       "                evp         aic      rmse\n",
       "oseries1  92.915123  916.144521  0.114455\n",
       "oseries2  88.478824  -23.443866  0.126184"
      ]
     },
     "execution_count": 35,
     "metadata": {},
     "output_type": "execute_result"
    }
   ],
   "source": [
    "# pastastore\n",
    "store.get_statistics([\"evp\", \"aic\", \"rmse\"])"
   ]
  }
 ],
 "metadata": {
  "kernelspec": {
   "display_name": "Python 3 (ipykernel)",
   "language": "python",
   "name": "python3"
  },
  "language_info": {
   "codemirror_mode": {
    "name": "ipython",
    "version": 3
   },
   "file_extension": ".py",
   "mimetype": "text/x-python",
   "name": "python",
   "nbconvert_exporter": "python",
   "pygments_lexer": "ipython3",
   "version": "3.9.7"
  },
  "toc-showtags": false
 },
 "nbformat": 4,
 "nbformat_minor": 4
}
