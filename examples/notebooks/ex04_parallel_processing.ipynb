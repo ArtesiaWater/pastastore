{
 "cells": [
  {
   "cell_type": "markdown",
   "metadata": {},
   "source": [
    "# Parallel processing with Pastastore\n",
    "\n",
    "This notebook shows parallel processing capabilities of `PastaStore`.\n",
    "\n",
    "\n",
    "<div class=\"alert alert-warning\">\n",
    "\n",
    "<strong>Note:</strong> Parallel processing is platform dependent and may not\n",
    "always work. The current implementation works well for Linux users, though this\n",
    "will likely change with Python 3.13 and higher. For Windows users, parallel\n",
    "solving does not work when called directly from Jupyter Notebooks or IPython.\n",
    "To use parallel solving on Windows, the following code should be used in a\n",
    "Python file:\n",
    "\n",
    "<pre><code class=\"python\">\n",
    "from multiprocessing import freeze_support\n",
    "\n",
    "if __name__ == \"__main__\":\n",
    "    freeze_support()\n",
    "    pstore.apply(\"models\", some_func, parallel=True)\n",
    "</code></pre>\n",
    "\n",
    "</div>"
   ]
  },
  {
   "cell_type": "code",
   "execution_count": 1,
   "metadata": {},
   "outputs": [
    {
     "name": "stdout",
     "output_type": "stream",
     "text": [
      "Pastastore version : 1.7.2\n",
      "\n",
      "Python version     : 3.11.10\n",
      "Pandas version     : 2.2.2\n",
      "Matplotlib version : 3.9.2\n",
      "Pastas version     : 1.7.0\n",
      "PyYAML version     : 6.0.2\n",
      "\n"
     ]
    },
    {
     "name": "stderr",
     "output_type": "stream",
     "text": [
      "DeprecationWarning: As of Pastas 1.5, no noisemodel is added to the pastas Model class by default anymore. To solve your model using a noisemodel, you have to explicitly add a noisemodel to your model before solving. For more information, and how to adapt your code, please see this issue on GitHub: https://github.com/pastas/pastas/issues/735"
     ]
    }
   ],
   "source": [
    "import pastas as ps\n",
    "\n",
    "import pastastore as pst\n",
    "from pastastore.datasets import example_pastastore\n",
    "\n",
    "ps.logger.setLevel(\"ERROR\")  # silence Pastas logger for this notebook\n",
    "pst.show_versions()"
   ]
  },
  {
   "cell_type": "markdown",
   "metadata": {},
   "source": [
    "## Example pastastore\n",
    "\n",
    "Load some example data, create models and solve them to showcase parallel processing."
   ]
  },
  {
   "cell_type": "code",
   "execution_count": 2,
   "metadata": {},
   "outputs": [
    {
     "name": "stdout",
     "output_type": "stream",
     "text": [
      "PasConnector: library 'oseries' created in '/home/david/github/pastastore/examples/notebooks/temp/my_connector/oseries'\n",
      "PasConnector: library 'stresses' created in '/home/david/github/pastastore/examples/notebooks/temp/my_connector/stresses'\n",
      "PasConnector: library 'models' created in '/home/david/github/pastastore/examples/notebooks/temp/my_connector/models'\n",
      "PasConnector: library 'oseries_models' created in '/home/david/github/pastastore/examples/notebooks/temp/my_connector/oseries_models'\n"
     ]
    },
    {
     "data": {
      "application/vnd.jupyter.widget-view+json": {
       "model_id": "b393c0f0583743eba2aae21efeb4df60",
       "version_major": 2,
       "version_minor": 0
      },
      "text/plain": [
       "Bulk creation models:   0%|          | 0/5 [00:00<?, ?it/s]"
      ]
     },
     "metadata": {},
     "output_type": "display_data"
    }
   ],
   "source": [
    "# get the example pastastore\n",
    "conn = pst.PasConnector(\"my_connector\", \"./temp\")\n",
    "pstore = example_pastastore(conn)\n",
    "pstore.create_models_bulk();"
   ]
  },
  {
   "cell_type": "markdown",
   "metadata": {},
   "source": [
    "## Solving models\n",
    "\n",
    "The `PastaStore.solve_models()` method supports parallel processing."
   ]
  },
  {
   "cell_type": "code",
   "execution_count": 3,
   "metadata": {},
   "outputs": [
    {
     "data": {
      "application/vnd.jupyter.widget-view+json": {
       "model_id": "66d5c419ac7d4b7e9067045d30c28aa3",
       "version_major": 2,
       "version_minor": 0
      },
      "text/plain": [
       "Solving models (parallel):   0%|          | 0/5 [00:00<?, ?it/s]"
      ]
     },
     "metadata": {},
     "output_type": "display_data"
    }
   ],
   "source": [
    "pstore.solve_models(parallel=True)"
   ]
  },
  {
   "cell_type": "markdown",
   "metadata": {},
   "source": [
    "## Parallel processing using `.apply()`\n",
    "\n",
    "Define some function that takes a name as input and returns some result. In this case,\n",
    "return the $R^2$ value for each model."
   ]
  },
  {
   "cell_type": "code",
   "execution_count": null,
   "metadata": {},
   "outputs": [],
   "source": [
    "def rsq(model_name: str) -> float:\n",
    "    \"\"\"Compute the R-squared value of a Pastas model.\"\"\"\n",
    "    ml = pstore.get_models(model_name)\n",
    "    return ml.stats.rsq()"
   ]
  },
  {
   "cell_type": "markdown",
   "metadata": {},
   "source": [
    "We can apply this function to all models in the pastastore using `pstore.apply()`. \n",
    "By default this function is run sequentially. "
   ]
  },
  {
   "cell_type": "code",
   "execution_count": 5,
   "metadata": {},
   "outputs": [
    {
     "data": {
      "application/vnd.jupyter.widget-view+json": {
       "model_id": "fdcabcd9cf1649388200355f2295e831",
       "version_major": 2,
       "version_minor": 0
      },
      "text/plain": [
       "Applying rsq:   0%|          | 0/5 [00:00<?, ?it/s]"
      ]
     },
     "metadata": {},
     "output_type": "display_data"
    },
    {
     "data": {
      "text/plain": [
       "head_mw     0.159352\n",
       "head_nb5    0.438129\n",
       "oseries2    0.931883\n",
       "oseries1    0.904480\n",
       "oseries3    0.030468\n",
       "dtype: float64"
      ]
     },
     "execution_count": 5,
     "metadata": {},
     "output_type": "execute_result"
    }
   ],
   "source": [
    "pstore.apply(\"models\", rsq, progressbar=True)"
   ]
  },
  {
   "cell_type": "markdown",
   "metadata": {},
   "source": [
    "In order to run this function in parallel, set `parallel=True` in the keyword arguments."
   ]
  },
  {
   "cell_type": "code",
   "execution_count": 6,
   "metadata": {},
   "outputs": [
    {
     "data": {
      "application/vnd.jupyter.widget-view+json": {
       "model_id": "fc71d90c23e245958171b45fff68a6a7",
       "version_major": 2,
       "version_minor": 0
      },
      "text/plain": [
       "Applying rsq (parallel):   0%|          | 0/5 [00:00<?, ?it/s]"
      ]
     },
     "metadata": {},
     "output_type": "display_data"
    },
    {
     "data": {
      "text/plain": [
       "head_mw     0.159352\n",
       "head_nb5    0.438129\n",
       "oseries2    0.931883\n",
       "oseries1    0.904480\n",
       "oseries3    0.030468\n",
       "dtype: float64"
      ]
     },
     "execution_count": 6,
     "metadata": {},
     "output_type": "execute_result"
    }
   ],
   "source": [
    "pstore.apply(\"models\", rsq, progressbar=True, parallel=True)"
   ]
  },
  {
   "cell_type": "markdown",
   "metadata": {},
   "source": [
    "## Get model statistics\n",
    "\n",
    "The function `pstore.get_statistics` also supports parallel processing."
   ]
  },
  {
   "cell_type": "code",
   "execution_count": 7,
   "metadata": {},
   "outputs": [
    {
     "data": {
      "text/html": [
       "<div>\n",
       "<style scoped>\n",
       "    .dataframe tbody tr th:only-of-type {\n",
       "        vertical-align: middle;\n",
       "    }\n",
       "\n",
       "    .dataframe tbody tr th {\n",
       "        vertical-align: top;\n",
       "    }\n",
       "\n",
       "    .dataframe thead th {\n",
       "        text-align: right;\n",
       "    }\n",
       "</style>\n",
       "<table border=\"1\" class=\"dataframe\">\n",
       "  <thead>\n",
       "    <tr style=\"text-align: right;\">\n",
       "      <th></th>\n",
       "      <th>rsq</th>\n",
       "      <th>mae</th>\n",
       "    </tr>\n",
       "  </thead>\n",
       "  <tbody>\n",
       "    <tr>\n",
       "      <th>head_mw</th>\n",
       "      <td>0.159352</td>\n",
       "      <td>0.631499</td>\n",
       "    </tr>\n",
       "    <tr>\n",
       "      <th>head_nb5</th>\n",
       "      <td>0.438129</td>\n",
       "      <td>0.318361</td>\n",
       "    </tr>\n",
       "    <tr>\n",
       "      <th>oseries2</th>\n",
       "      <td>0.931883</td>\n",
       "      <td>0.087070</td>\n",
       "    </tr>\n",
       "    <tr>\n",
       "      <th>oseries1</th>\n",
       "      <td>0.904480</td>\n",
       "      <td>0.091339</td>\n",
       "    </tr>\n",
       "    <tr>\n",
       "      <th>oseries3</th>\n",
       "      <td>0.030468</td>\n",
       "      <td>0.106254</td>\n",
       "    </tr>\n",
       "  </tbody>\n",
       "</table>\n",
       "</div>"
      ],
      "text/plain": [
       "               rsq       mae\n",
       "head_mw   0.159352  0.631499\n",
       "head_nb5  0.438129  0.318361\n",
       "oseries2  0.931883  0.087070\n",
       "oseries1  0.904480  0.091339\n",
       "oseries3  0.030468  0.106254"
      ]
     },
     "execution_count": 7,
     "metadata": {},
     "output_type": "execute_result"
    }
   ],
   "source": [
    "pstore.get_statistics([\"rsq\", \"mae\"])"
   ]
  },
  {
   "cell_type": "code",
   "execution_count": 8,
   "metadata": {},
   "outputs": [
    {
     "data": {
      "text/html": [
       "<div>\n",
       "<style scoped>\n",
       "    .dataframe tbody tr th:only-of-type {\n",
       "        vertical-align: middle;\n",
       "    }\n",
       "\n",
       "    .dataframe tbody tr th {\n",
       "        vertical-align: top;\n",
       "    }\n",
       "\n",
       "    .dataframe thead th {\n",
       "        text-align: right;\n",
       "    }\n",
       "</style>\n",
       "<table border=\"1\" class=\"dataframe\">\n",
       "  <thead>\n",
       "    <tr style=\"text-align: right;\">\n",
       "      <th></th>\n",
       "      <th>rsq</th>\n",
       "      <th>mae</th>\n",
       "    </tr>\n",
       "    <tr>\n",
       "      <th>_get_statistics</th>\n",
       "      <th></th>\n",
       "      <th></th>\n",
       "    </tr>\n",
       "  </thead>\n",
       "  <tbody>\n",
       "    <tr>\n",
       "      <th>head_mw</th>\n",
       "      <td>0.159352</td>\n",
       "      <td>0.631499</td>\n",
       "    </tr>\n",
       "    <tr>\n",
       "      <th>head_nb5</th>\n",
       "      <td>0.438129</td>\n",
       "      <td>0.318361</td>\n",
       "    </tr>\n",
       "    <tr>\n",
       "      <th>oseries2</th>\n",
       "      <td>0.931883</td>\n",
       "      <td>0.087070</td>\n",
       "    </tr>\n",
       "    <tr>\n",
       "      <th>oseries1</th>\n",
       "      <td>0.904480</td>\n",
       "      <td>0.091339</td>\n",
       "    </tr>\n",
       "    <tr>\n",
       "      <th>oseries3</th>\n",
       "      <td>0.030468</td>\n",
       "      <td>0.106254</td>\n",
       "    </tr>\n",
       "  </tbody>\n",
       "</table>\n",
       "</div>"
      ],
      "text/plain": [
       "                      rsq       mae\n",
       "_get_statistics                    \n",
       "head_mw          0.159352  0.631499\n",
       "head_nb5         0.438129  0.318361\n",
       "oseries2         0.931883  0.087070\n",
       "oseries1         0.904480  0.091339\n",
       "oseries3         0.030468  0.106254"
      ]
     },
     "execution_count": 8,
     "metadata": {},
     "output_type": "execute_result"
    }
   ],
   "source": [
    "pstore.get_statistics([\"rsq\", \"mae\"], parallel=True)"
   ]
  },
  {
   "cell_type": "markdown",
   "metadata": {},
   "source": [
    "## Compute prediction intervals\n",
    "\n",
    "Let's try using a more complex function and passing that to apply to use\n",
    "parallel processing. In this case we want to compute the prediction interval,\n",
    "and pass along the $\\alpha$ value via the keyword arguments."
   ]
  },
  {
   "cell_type": "code",
   "execution_count": 9,
   "metadata": {},
   "outputs": [],
   "source": [
    "def prediction_interval(model_name, **kwargs):\n",
    "    \"\"\"Compute the prediction interval for a Pastas model.\"\"\"\n",
    "    ml = pstore.get_models(model_name)\n",
    "    return ml.solver.prediction_interval(**kwargs)"
   ]
  },
  {
   "cell_type": "code",
   "execution_count": 10,
   "metadata": {},
   "outputs": [
    {
     "data": {
      "application/vnd.jupyter.widget-view+json": {
       "model_id": "2ad32a3ee93f4eb2905d43e412ed3e66",
       "version_major": 2,
       "version_minor": 0
      },
      "text/plain": [
       "Applying prediction_interval:   0%|          | 0/5 [00:00<?, ?it/s]"
      ]
     },
     "metadata": {},
     "output_type": "display_data"
    },
    {
     "data": {
      "text/html": [
       "<div>\n",
       "<style scoped>\n",
       "    .dataframe tbody tr th:only-of-type {\n",
       "        vertical-align: middle;\n",
       "    }\n",
       "\n",
       "    .dataframe tbody tr th {\n",
       "        vertical-align: top;\n",
       "    }\n",
       "\n",
       "    .dataframe thead tr th {\n",
       "        text-align: left;\n",
       "    }\n",
       "</style>\n",
       "<table border=\"1\" class=\"dataframe\">\n",
       "  <thead>\n",
       "    <tr>\n",
       "      <th></th>\n",
       "      <th colspan=\"2\" halign=\"left\">head_mw</th>\n",
       "      <th colspan=\"2\" halign=\"left\">head_nb5</th>\n",
       "      <th colspan=\"2\" halign=\"left\">oseries2</th>\n",
       "      <th colspan=\"2\" halign=\"left\">oseries1</th>\n",
       "      <th colspan=\"2\" halign=\"left\">oseries3</th>\n",
       "    </tr>\n",
       "    <tr>\n",
       "      <th></th>\n",
       "      <th>0.025</th>\n",
       "      <th>0.975</th>\n",
       "      <th>0.025</th>\n",
       "      <th>0.975</th>\n",
       "      <th>0.025</th>\n",
       "      <th>0.975</th>\n",
       "      <th>0.025</th>\n",
       "      <th>0.975</th>\n",
       "      <th>0.025</th>\n",
       "      <th>0.975</th>\n",
       "    </tr>\n",
       "  </thead>\n",
       "  <tbody>\n",
       "    <tr>\n",
       "      <th>1960-04-29</th>\n",
       "      <td>6.153982</td>\n",
       "      <td>9.588189</td>\n",
       "      <td>NaN</td>\n",
       "      <td>NaN</td>\n",
       "      <td>NaN</td>\n",
       "      <td>NaN</td>\n",
       "      <td>NaN</td>\n",
       "      <td>NaN</td>\n",
       "      <td>NaN</td>\n",
       "      <td>NaN</td>\n",
       "    </tr>\n",
       "    <tr>\n",
       "      <th>1960-04-30</th>\n",
       "      <td>6.380895</td>\n",
       "      <td>9.508922</td>\n",
       "      <td>NaN</td>\n",
       "      <td>NaN</td>\n",
       "      <td>NaN</td>\n",
       "      <td>NaN</td>\n",
       "      <td>NaN</td>\n",
       "      <td>NaN</td>\n",
       "      <td>NaN</td>\n",
       "      <td>NaN</td>\n",
       "    </tr>\n",
       "    <tr>\n",
       "      <th>1960-05-01</th>\n",
       "      <td>6.123367</td>\n",
       "      <td>9.494980</td>\n",
       "      <td>NaN</td>\n",
       "      <td>NaN</td>\n",
       "      <td>NaN</td>\n",
       "      <td>NaN</td>\n",
       "      <td>NaN</td>\n",
       "      <td>NaN</td>\n",
       "      <td>NaN</td>\n",
       "      <td>NaN</td>\n",
       "    </tr>\n",
       "    <tr>\n",
       "      <th>1960-05-02</th>\n",
       "      <td>6.290476</td>\n",
       "      <td>9.462120</td>\n",
       "      <td>NaN</td>\n",
       "      <td>NaN</td>\n",
       "      <td>NaN</td>\n",
       "      <td>NaN</td>\n",
       "      <td>NaN</td>\n",
       "      <td>NaN</td>\n",
       "      <td>NaN</td>\n",
       "      <td>NaN</td>\n",
       "    </tr>\n",
       "    <tr>\n",
       "      <th>1960-05-03</th>\n",
       "      <td>6.193586</td>\n",
       "      <td>9.422403</td>\n",
       "      <td>NaN</td>\n",
       "      <td>NaN</td>\n",
       "      <td>NaN</td>\n",
       "      <td>NaN</td>\n",
       "      <td>NaN</td>\n",
       "      <td>NaN</td>\n",
       "      <td>NaN</td>\n",
       "      <td>NaN</td>\n",
       "    </tr>\n",
       "    <tr>\n",
       "      <th>...</th>\n",
       "      <td>...</td>\n",
       "      <td>...</td>\n",
       "      <td>...</td>\n",
       "      <td>...</td>\n",
       "      <td>...</td>\n",
       "      <td>...</td>\n",
       "      <td>...</td>\n",
       "      <td>...</td>\n",
       "      <td>...</td>\n",
       "      <td>...</td>\n",
       "    </tr>\n",
       "    <tr>\n",
       "      <th>2020-01-17</th>\n",
       "      <td>NaN</td>\n",
       "      <td>NaN</td>\n",
       "      <td>7.951783</td>\n",
       "      <td>9.601765</td>\n",
       "      <td>NaN</td>\n",
       "      <td>NaN</td>\n",
       "      <td>NaN</td>\n",
       "      <td>NaN</td>\n",
       "      <td>NaN</td>\n",
       "      <td>NaN</td>\n",
       "    </tr>\n",
       "    <tr>\n",
       "      <th>2020-01-18</th>\n",
       "      <td>NaN</td>\n",
       "      <td>NaN</td>\n",
       "      <td>7.944779</td>\n",
       "      <td>9.628475</td>\n",
       "      <td>NaN</td>\n",
       "      <td>NaN</td>\n",
       "      <td>NaN</td>\n",
       "      <td>NaN</td>\n",
       "      <td>NaN</td>\n",
       "      <td>NaN</td>\n",
       "    </tr>\n",
       "    <tr>\n",
       "      <th>2020-01-19</th>\n",
       "      <td>NaN</td>\n",
       "      <td>NaN</td>\n",
       "      <td>7.915527</td>\n",
       "      <td>9.611082</td>\n",
       "      <td>NaN</td>\n",
       "      <td>NaN</td>\n",
       "      <td>NaN</td>\n",
       "      <td>NaN</td>\n",
       "      <td>NaN</td>\n",
       "      <td>NaN</td>\n",
       "    </tr>\n",
       "    <tr>\n",
       "      <th>2020-01-20</th>\n",
       "      <td>NaN</td>\n",
       "      <td>NaN</td>\n",
       "      <td>7.953039</td>\n",
       "      <td>9.548947</td>\n",
       "      <td>NaN</td>\n",
       "      <td>NaN</td>\n",
       "      <td>NaN</td>\n",
       "      <td>NaN</td>\n",
       "      <td>NaN</td>\n",
       "      <td>NaN</td>\n",
       "    </tr>\n",
       "    <tr>\n",
       "      <th>2020-01-21</th>\n",
       "      <td>NaN</td>\n",
       "      <td>NaN</td>\n",
       "      <td>7.973911</td>\n",
       "      <td>9.683257</td>\n",
       "      <td>NaN</td>\n",
       "      <td>NaN</td>\n",
       "      <td>NaN</td>\n",
       "      <td>NaN</td>\n",
       "      <td>NaN</td>\n",
       "      <td>NaN</td>\n",
       "    </tr>\n",
       "  </tbody>\n",
       "</table>\n",
       "<p>21817 rows × 10 columns</p>\n",
       "</div>"
      ],
      "text/plain": [
       "             head_mw            head_nb5           oseries2       oseries1  \\\n",
       "               0.025     0.975     0.025     0.975    0.025 0.975    0.025   \n",
       "1960-04-29  6.153982  9.588189       NaN       NaN      NaN   NaN      NaN   \n",
       "1960-04-30  6.380895  9.508922       NaN       NaN      NaN   NaN      NaN   \n",
       "1960-05-01  6.123367  9.494980       NaN       NaN      NaN   NaN      NaN   \n",
       "1960-05-02  6.290476  9.462120       NaN       NaN      NaN   NaN      NaN   \n",
       "1960-05-03  6.193586  9.422403       NaN       NaN      NaN   NaN      NaN   \n",
       "...              ...       ...       ...       ...      ...   ...      ...   \n",
       "2020-01-17       NaN       NaN  7.951783  9.601765      NaN   NaN      NaN   \n",
       "2020-01-18       NaN       NaN  7.944779  9.628475      NaN   NaN      NaN   \n",
       "2020-01-19       NaN       NaN  7.915527  9.611082      NaN   NaN      NaN   \n",
       "2020-01-20       NaN       NaN  7.953039  9.548947      NaN   NaN      NaN   \n",
       "2020-01-21       NaN       NaN  7.973911  9.683257      NaN   NaN      NaN   \n",
       "\n",
       "                 oseries3        \n",
       "           0.975    0.025 0.975  \n",
       "1960-04-29   NaN      NaN   NaN  \n",
       "1960-04-30   NaN      NaN   NaN  \n",
       "1960-05-01   NaN      NaN   NaN  \n",
       "1960-05-02   NaN      NaN   NaN  \n",
       "1960-05-03   NaN      NaN   NaN  \n",
       "...          ...      ...   ...  \n",
       "2020-01-17   NaN      NaN   NaN  \n",
       "2020-01-18   NaN      NaN   NaN  \n",
       "2020-01-19   NaN      NaN   NaN  \n",
       "2020-01-20   NaN      NaN   NaN  \n",
       "2020-01-21   NaN      NaN   NaN  \n",
       "\n",
       "[21817 rows x 10 columns]"
      ]
     },
     "execution_count": 10,
     "metadata": {},
     "output_type": "execute_result"
    }
   ],
   "source": [
    "pstore.apply(\"models\", prediction_interval, kwargs={\"alpha\": 0.05})"
   ]
  },
  {
   "cell_type": "code",
   "execution_count": 11,
   "metadata": {},
   "outputs": [
    {
     "data": {
      "application/vnd.jupyter.widget-view+json": {
       "model_id": "7e9b4089982046b6acb03cec2c6477c2",
       "version_major": 2,
       "version_minor": 0
      },
      "text/plain": [
       "Applying prediction_interval (parallel):   0%|          | 0/5 [00:00<?, ?it/s]"
      ]
     },
     "metadata": {},
     "output_type": "display_data"
    },
    {
     "data": {
      "text/html": [
       "<div>\n",
       "<style scoped>\n",
       "    .dataframe tbody tr th:only-of-type {\n",
       "        vertical-align: middle;\n",
       "    }\n",
       "\n",
       "    .dataframe tbody tr th {\n",
       "        vertical-align: top;\n",
       "    }\n",
       "\n",
       "    .dataframe thead tr th {\n",
       "        text-align: left;\n",
       "    }\n",
       "</style>\n",
       "<table border=\"1\" class=\"dataframe\">\n",
       "  <thead>\n",
       "    <tr>\n",
       "      <th></th>\n",
       "      <th colspan=\"2\" halign=\"left\">head_mw</th>\n",
       "      <th colspan=\"2\" halign=\"left\">head_nb5</th>\n",
       "      <th colspan=\"2\" halign=\"left\">oseries2</th>\n",
       "      <th colspan=\"2\" halign=\"left\">oseries1</th>\n",
       "      <th colspan=\"2\" halign=\"left\">oseries3</th>\n",
       "    </tr>\n",
       "    <tr>\n",
       "      <th></th>\n",
       "      <th>0.025</th>\n",
       "      <th>0.975</th>\n",
       "      <th>0.025</th>\n",
       "      <th>0.975</th>\n",
       "      <th>0.025</th>\n",
       "      <th>0.975</th>\n",
       "      <th>0.025</th>\n",
       "      <th>0.975</th>\n",
       "      <th>0.025</th>\n",
       "      <th>0.975</th>\n",
       "    </tr>\n",
       "  </thead>\n",
       "  <tbody>\n",
       "    <tr>\n",
       "      <th>1960-04-29</th>\n",
       "      <td>6.331817</td>\n",
       "      <td>9.472261</td>\n",
       "      <td>NaN</td>\n",
       "      <td>NaN</td>\n",
       "      <td>NaN</td>\n",
       "      <td>NaN</td>\n",
       "      <td>NaN</td>\n",
       "      <td>NaN</td>\n",
       "      <td>NaN</td>\n",
       "      <td>NaN</td>\n",
       "    </tr>\n",
       "    <tr>\n",
       "      <th>1960-04-30</th>\n",
       "      <td>6.374827</td>\n",
       "      <td>9.381742</td>\n",
       "      <td>NaN</td>\n",
       "      <td>NaN</td>\n",
       "      <td>NaN</td>\n",
       "      <td>NaN</td>\n",
       "      <td>NaN</td>\n",
       "      <td>NaN</td>\n",
       "      <td>NaN</td>\n",
       "      <td>NaN</td>\n",
       "    </tr>\n",
       "    <tr>\n",
       "      <th>1960-05-01</th>\n",
       "      <td>6.055487</td>\n",
       "      <td>9.368888</td>\n",
       "      <td>NaN</td>\n",
       "      <td>NaN</td>\n",
       "      <td>NaN</td>\n",
       "      <td>NaN</td>\n",
       "      <td>NaN</td>\n",
       "      <td>NaN</td>\n",
       "      <td>NaN</td>\n",
       "      <td>NaN</td>\n",
       "    </tr>\n",
       "    <tr>\n",
       "      <th>1960-05-02</th>\n",
       "      <td>6.315811</td>\n",
       "      <td>9.561684</td>\n",
       "      <td>NaN</td>\n",
       "      <td>NaN</td>\n",
       "      <td>NaN</td>\n",
       "      <td>NaN</td>\n",
       "      <td>NaN</td>\n",
       "      <td>NaN</td>\n",
       "      <td>NaN</td>\n",
       "      <td>NaN</td>\n",
       "    </tr>\n",
       "    <tr>\n",
       "      <th>1960-05-03</th>\n",
       "      <td>6.223291</td>\n",
       "      <td>9.422079</td>\n",
       "      <td>NaN</td>\n",
       "      <td>NaN</td>\n",
       "      <td>NaN</td>\n",
       "      <td>NaN</td>\n",
       "      <td>NaN</td>\n",
       "      <td>NaN</td>\n",
       "      <td>NaN</td>\n",
       "      <td>NaN</td>\n",
       "    </tr>\n",
       "    <tr>\n",
       "      <th>...</th>\n",
       "      <td>...</td>\n",
       "      <td>...</td>\n",
       "      <td>...</td>\n",
       "      <td>...</td>\n",
       "      <td>...</td>\n",
       "      <td>...</td>\n",
       "      <td>...</td>\n",
       "      <td>...</td>\n",
       "      <td>...</td>\n",
       "      <td>...</td>\n",
       "    </tr>\n",
       "    <tr>\n",
       "      <th>2020-01-17</th>\n",
       "      <td>NaN</td>\n",
       "      <td>NaN</td>\n",
       "      <td>7.958097</td>\n",
       "      <td>9.663725</td>\n",
       "      <td>NaN</td>\n",
       "      <td>NaN</td>\n",
       "      <td>NaN</td>\n",
       "      <td>NaN</td>\n",
       "      <td>NaN</td>\n",
       "      <td>NaN</td>\n",
       "    </tr>\n",
       "    <tr>\n",
       "      <th>2020-01-18</th>\n",
       "      <td>NaN</td>\n",
       "      <td>NaN</td>\n",
       "      <td>7.965839</td>\n",
       "      <td>9.593403</td>\n",
       "      <td>NaN</td>\n",
       "      <td>NaN</td>\n",
       "      <td>NaN</td>\n",
       "      <td>NaN</td>\n",
       "      <td>NaN</td>\n",
       "      <td>NaN</td>\n",
       "    </tr>\n",
       "    <tr>\n",
       "      <th>2020-01-19</th>\n",
       "      <td>NaN</td>\n",
       "      <td>NaN</td>\n",
       "      <td>7.881907</td>\n",
       "      <td>9.724095</td>\n",
       "      <td>NaN</td>\n",
       "      <td>NaN</td>\n",
       "      <td>NaN</td>\n",
       "      <td>NaN</td>\n",
       "      <td>NaN</td>\n",
       "      <td>NaN</td>\n",
       "    </tr>\n",
       "    <tr>\n",
       "      <th>2020-01-20</th>\n",
       "      <td>NaN</td>\n",
       "      <td>NaN</td>\n",
       "      <td>7.926140</td>\n",
       "      <td>9.655718</td>\n",
       "      <td>NaN</td>\n",
       "      <td>NaN</td>\n",
       "      <td>NaN</td>\n",
       "      <td>NaN</td>\n",
       "      <td>NaN</td>\n",
       "      <td>NaN</td>\n",
       "    </tr>\n",
       "    <tr>\n",
       "      <th>2020-01-21</th>\n",
       "      <td>NaN</td>\n",
       "      <td>NaN</td>\n",
       "      <td>7.936094</td>\n",
       "      <td>9.669409</td>\n",
       "      <td>NaN</td>\n",
       "      <td>NaN</td>\n",
       "      <td>NaN</td>\n",
       "      <td>NaN</td>\n",
       "      <td>NaN</td>\n",
       "      <td>NaN</td>\n",
       "    </tr>\n",
       "  </tbody>\n",
       "</table>\n",
       "<p>21817 rows × 10 columns</p>\n",
       "</div>"
      ],
      "text/plain": [
       "             head_mw            head_nb5           oseries2       oseries1  \\\n",
       "               0.025     0.975     0.025     0.975    0.025 0.975    0.025   \n",
       "1960-04-29  6.331817  9.472261       NaN       NaN      NaN   NaN      NaN   \n",
       "1960-04-30  6.374827  9.381742       NaN       NaN      NaN   NaN      NaN   \n",
       "1960-05-01  6.055487  9.368888       NaN       NaN      NaN   NaN      NaN   \n",
       "1960-05-02  6.315811  9.561684       NaN       NaN      NaN   NaN      NaN   \n",
       "1960-05-03  6.223291  9.422079       NaN       NaN      NaN   NaN      NaN   \n",
       "...              ...       ...       ...       ...      ...   ...      ...   \n",
       "2020-01-17       NaN       NaN  7.958097  9.663725      NaN   NaN      NaN   \n",
       "2020-01-18       NaN       NaN  7.965839  9.593403      NaN   NaN      NaN   \n",
       "2020-01-19       NaN       NaN  7.881907  9.724095      NaN   NaN      NaN   \n",
       "2020-01-20       NaN       NaN  7.926140  9.655718      NaN   NaN      NaN   \n",
       "2020-01-21       NaN       NaN  7.936094  9.669409      NaN   NaN      NaN   \n",
       "\n",
       "                 oseries3        \n",
       "           0.975    0.025 0.975  \n",
       "1960-04-29   NaN      NaN   NaN  \n",
       "1960-04-30   NaN      NaN   NaN  \n",
       "1960-05-01   NaN      NaN   NaN  \n",
       "1960-05-02   NaN      NaN   NaN  \n",
       "1960-05-03   NaN      NaN   NaN  \n",
       "...          ...      ...   ...  \n",
       "2020-01-17   NaN      NaN   NaN  \n",
       "2020-01-18   NaN      NaN   NaN  \n",
       "2020-01-19   NaN      NaN   NaN  \n",
       "2020-01-20   NaN      NaN   NaN  \n",
       "2020-01-21   NaN      NaN   NaN  \n",
       "\n",
       "[21817 rows x 10 columns]"
      ]
     },
     "execution_count": 11,
     "metadata": {},
     "output_type": "execute_result"
    }
   ],
   "source": [
    "pstore.apply(\"models\", prediction_interval, kwargs={\"alpha\": 0.05}, parallel=True)"
   ]
  },
  {
   "cell_type": "markdown",
   "metadata": {},
   "source": [
    "## Load models\n",
    "\n",
    "Load models in parallel."
   ]
  },
  {
   "cell_type": "code",
   "execution_count": 12,
   "metadata": {},
   "outputs": [
    {
     "data": {
      "application/vnd.jupyter.widget-view+json": {
       "model_id": "458f50b3ecce405dbc9e6901ac3bf5a1",
       "version_major": 2,
       "version_minor": 0
      },
      "text/plain": [
       "Applying get_models:   0%|          | 0/5 [00:00<?, ?it/s]"
      ]
     },
     "metadata": {},
     "output_type": "display_data"
    },
    {
     "data": {
      "text/plain": [
       "{'head_mw': Model(oseries=head_mw, name=head_mw, constant=True, noisemodel=False),\n",
       " 'head_nb5': Model(oseries=head_nb5, name=head_nb5, constant=True, noisemodel=False),\n",
       " 'oseries2': Model(oseries=oseries2, name=oseries2, constant=True, noisemodel=False),\n",
       " 'oseries1': Model(oseries=oseries1, name=oseries1, constant=True, noisemodel=False),\n",
       " 'oseries3': Model(oseries=oseries3, name=oseries3, constant=True, noisemodel=False)}"
      ]
     },
     "execution_count": 12,
     "metadata": {},
     "output_type": "execute_result"
    }
   ],
   "source": [
    "pstore.apply(\"models\", pstore.get_models, fancy_output=True)"
   ]
  },
  {
   "cell_type": "markdown",
   "metadata": {},
   "source": [
    "The `max_workers` keyword argument sets the number of workers that are spawned.\n",
    "The default value is often fine, but it can be set explicitly."
   ]
  },
  {
   "cell_type": "code",
   "execution_count": 13,
   "metadata": {},
   "outputs": [
    {
     "data": {
      "application/vnd.jupyter.widget-view+json": {
       "model_id": "258905563643490bb9dba36014259846",
       "version_major": 2,
       "version_minor": 0
      },
      "text/plain": [
       "Applying get_models (parallel):   0%|          | 0/5 [00:00<?, ?it/s]"
      ]
     },
     "metadata": {},
     "output_type": "display_data"
    },
    {
     "data": {
      "text/plain": [
       "{'head_mw': Model(oseries=head_mw, name=head_mw, constant=True, noisemodel=False),\n",
       " 'head_nb5': Model(oseries=head_nb5, name=head_nb5, constant=True, noisemodel=False),\n",
       " 'oseries2': Model(oseries=oseries2, name=oseries2, constant=True, noisemodel=False),\n",
       " 'oseries1': Model(oseries=oseries1, name=oseries1, constant=True, noisemodel=False),\n",
       " 'oseries3': Model(oseries=oseries3, name=oseries3, constant=True, noisemodel=False)}"
      ]
     },
     "execution_count": 13,
     "metadata": {},
     "output_type": "execute_result"
    }
   ],
   "source": [
    "pstore.apply(\n",
    "    \"models\", pstore.get_models, fancy_output=True, parallel=True, max_workers=5\n",
    ")"
   ]
  },
  {
   "cell_type": "markdown",
   "metadata": {},
   "source": [
    "Clean up temporary pastastore."
   ]
  },
  {
   "cell_type": "code",
   "execution_count": 14,
   "metadata": {},
   "outputs": [
    {
     "name": "stdout",
     "output_type": "stream",
     "text": [
      "Deleting PasConnector database: 'my_connector' ...  Done!\n"
     ]
    }
   ],
   "source": [
    "pst.util.delete_pastastore(pstore)"
   ]
  },
  {
   "cell_type": "code",
   "execution_count": null,
   "metadata": {},
   "outputs": [],
   "source": []
  }
 ],
 "metadata": {
  "kernelspec": {
   "display_name": "artesia",
   "language": "python",
   "name": "python3"
  },
  "language_info": {
   "codemirror_mode": {
    "name": "ipython",
    "version": 3
   },
   "file_extension": ".py",
   "mimetype": "text/x-python",
   "name": "python",
   "nbconvert_exporter": "python",
   "pygments_lexer": "ipython3",
   "version": "3.11.10"
  }
 },
 "nbformat": 4,
 "nbformat_minor": 2
}
