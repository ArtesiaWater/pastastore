{
 "cells": [
  {
   "cell_type": "markdown",
   "metadata": {},
   "source": [
    "# The PastaStore YAML interface<a id=\"top\"></a>\n",
    "\n",
    "This notebook shows how [Pastas](https://pastas.readthedocs.io/en/latest/) models can be built from [YAML](https://yaml.org/) files, using [Pastastore](https://pastastore.readthedocs.io/en/latest/)."
   ]
  },
  {
   "attachments": {},
   "cell_type": "markdown",
   "metadata": {
    "tags": []
   },
   "source": [
    "## Contents\n",
    "\n",
    "- [Why YAML?](#Why-YAML?)\n",
    "- [An example YAML file](#An-example-YAML-file)\n",
    "- [The PastaStore.yaml interface](#The-PastaStore.yaml-interface)\n",
    "    - [Building model(s) from a YAML file](#Building-model(s)-from-a-YAML-file)\n",
    "    - [Writing model(s) to a YAML file](#Writing-model(s)-to-a-YAML-file)\n",
    "    - [\"Nearest\" options for time series](#\"Nearest\"-options-for-time-series)\n",
    "    - [Defaults](#Defaults)\n",
    "- [More examples](#More-examples)\n",
    "<hr>"
   ]
  },
  {
   "cell_type": "code",
   "execution_count": 1,
   "metadata": {},
   "outputs": [],
   "source": [
    "import logging\n",
    "import os\n",
    "import tempfile\n",
    "from contextlib import contextmanager\n",
    "from io import StringIO\n",
    "\n",
    "import pastas as ps\n",
    "import yaml\n",
    "\n",
    "import pastastore as pst\n",
    "\n",
    "# Set a logging handler directly via the logging package\n",
    "logging.basicConfig(level=logging.INFO)\n",
    "# Set pastas log messages to ERROR level\n",
    "ps.set_log_level(\"ERROR\")"
   ]
  },
  {
   "cell_type": "code",
   "execution_count": 2,
   "metadata": {},
   "outputs": [],
   "source": [
    "# create a temporary yaml file that is deleted after usage\n",
    "\n",
    "\n",
    "@contextmanager\n",
    "def tempyaml(yaml):\n",
    "    \"\"\"Temporary yaml file that is deleted after usage.\"\"\"\n",
    "    temp = tempfile.NamedTemporaryFile(delete=False)\n",
    "    temp.write(yaml.encode(\"utf-8\"))\n",
    "    temp.close()\n",
    "    try:\n",
    "        yield temp.name\n",
    "    finally:\n",
    "        os.unlink(temp.name)"
   ]
  },
  {
   "cell_type": "markdown",
   "metadata": {},
   "source": [
    "## [Why YAML?](#Contents)\n",
    "\n",
    "YAML, according to the official webpage is _\"YAML is a human-friendly data serialization language for all programming languages\"_. The file structure is similar to JSON (nested dictionaries) and therefore similar to the storage format for pastas Models, i.e. `.pas`-files. \n",
    "\n",
    "So why develop a method for reading/writing pastas models to and from YAML files? The human-readability of the file structure in combination with leveraging tools in pastastore allow users to quickly build pastas Models using a mini-language, without having to explicitly program each line of code. When users are working with a lot of models with different model structures, the YAML files can provide a simple and convenient interface to structure this work, without having to search through lots of lines of code.\n",
    "\n",
    "Whether it is useful to \"program\" the models in YAML or in normal Python/pastas code depends on the application or project. This feature was developed to give users an extra option that combines human-readable files with useful tools from the pastastore to quickly develop pastas models. "
   ]
  },
  {
   "attachments": {},
   "cell_type": "markdown",
   "metadata": {},
   "source": [
    "## [An example YAML file](#Contents)\n",
    "\n",
    "A YAML file is text file that uses Python-style indentation to indicate nesting. The following shows the structure of a YAML file for defining a pastas model. \n",
    "\n",
    "```yaml\n",
    "# comments are allowed, this is a pastas Model:\n",
    "\n",
    "my_first_model:                   # model name\n",
    "  oseries: head_nb1               # head time series name, obtained from pastastore\n",
    "  stressmodels:                   # stressmodels dictionary\n",
    "    recharge:                     # name of the recharge stressmodel\n",
    "      class: RechargeModel        # type of pastas StressModel\n",
    "      prec: prec1                 # name of precipitation stress, obtained from pastastore\n",
    "      evap: evap1                 # name of evaporation stress, obtained from pastastore\n",
    "      recharge: Linear            # pastas recharge type      \n",
    "      rfunc: Exponential          # rfunc\n",
    "```\n",
    "\n",
    "Reading this file converts it into a nested dictionary, as shown below. This dictionary can be used to (re-)construct pastas models, as is shown in the next sections. "
   ]
  },
  {
   "cell_type": "code",
   "execution_count": 3,
   "metadata": {},
   "outputs": [
    {
     "data": {
      "text/plain": [
       "{'my_first_model': {'oseries': 'head_nb1',\n",
       "  'stressmodels': {'recharge': {'class': 'RechargeModel',\n",
       "    'prec': 'prec1',\n",
       "    'evap': 'evap1',\n",
       "    'recharge': 'Linear',\n",
       "    'rfunc': 'Exponential'}}}}"
      ]
     },
     "execution_count": 3,
     "metadata": {},
     "output_type": "execute_result"
    }
   ],
   "source": [
    "yaml_file = \"\"\"\n",
    "# comments are allowed, this is a pastas Model:\n",
    "\n",
    "my_first_model:                   # model name\n",
    "  oseries: head_nb1               # head time series name, obtained from pastastore\n",
    "  stressmodels:                   # stressmodels dictionary\n",
    "    recharge:                     # name of the recharge stressmodel\n",
    "      class: RechargeModel        # type of pastas StressModel\n",
    "      prec: prec1                 # name of precipitation stress, from pastastore\n",
    "      evap: evap1                 # name of evaporation stress, from pastastore\n",
    "      recharge: Linear            # pastas recharge type\n",
    "      rfunc: Exponential          # response function\n",
    "\"\"\"\n",
    "\n",
    "# load the file\n",
    "d = yaml.load(StringIO(yaml_file), Loader=yaml.Loader)\n",
    "\n",
    "# view the resulting dictionary\n",
    "d"
   ]
  },
  {
   "cell_type": "markdown",
   "metadata": {
    "tags": []
   },
   "source": [
    "## [The PastaStore.yaml interface](#Contents)\n",
    "\n",
    "The logic for reading/writing YAML files is accessed through the `PastaStore.yaml` interface. First we need a PastaStore and fill it with some data to showcase this. Load the example dataset from the PastaStore (included since version 0.8.0 (note, this data is only available if the pastastore repository was cloned and not if it was installed with `pip`)."
   ]
  },
  {
   "cell_type": "code",
   "execution_count": 4,
   "metadata": {},
   "outputs": [],
   "source": [
    "from pastastore.datasets import example_pastastore  # noqa: E402"
   ]
  },
  {
   "cell_type": "code",
   "execution_count": 5,
   "metadata": {},
   "outputs": [
    {
     "name": "stderr",
     "output_type": "stream",
     "text": [
      "INFO:hydropandas.io.menyanthes:reading menyanthes file /home/david/github/pastastore/pastastore/../tests/data/MenyanthesTest.men\n",
      "INFO:hydropandas.io.menyanthes:reading oseries -> Obsevation well\n",
      "INFO:hydropandas.io.menyanthes:reading stress -> Evaporation\n",
      "INFO:hydropandas.io.menyanthes:reading stress -> Air Pressure\n",
      "INFO:hydropandas.io.menyanthes:reading stress -> Precipitation\n",
      "INFO:hydropandas.io.menyanthes:reading stress -> Extraction 1\n",
      "INFO:hydropandas.io.menyanthes:reading stress -> Extraction 2\n",
      "INFO:hydropandas.io.menyanthes:reading stress -> Extraction 3\n",
      "INFO:hydropandas.io.menyanthes:reading stress -> Extraction 4\n"
     ]
    },
    {
     "data": {
      "text/plain": [
       "<PastaStore> example: \n",
       " - <DictConnector> 'my_db': 5 oseries, 15 stresses, 0 models"
      ]
     },
     "execution_count": 5,
     "metadata": {},
     "output_type": "execute_result"
    }
   ],
   "source": [
    "pstore = example_pastastore()\n",
    "pstore"
   ]
  },
  {
   "cell_type": "markdown",
   "metadata": {},
   "source": [
    "Let's check which oseries are available:"
   ]
  },
  {
   "cell_type": "code",
   "execution_count": 6,
   "metadata": {},
   "outputs": [
    {
     "data": {
      "text/html": [
       "<div>\n",
       "<style scoped>\n",
       "    .dataframe tbody tr th:only-of-type {\n",
       "        vertical-align: middle;\n",
       "    }\n",
       "\n",
       "    .dataframe tbody tr th {\n",
       "        vertical-align: top;\n",
       "    }\n",
       "\n",
       "    .dataframe thead th {\n",
       "        text-align: right;\n",
       "    }\n",
       "</style>\n",
       "<table border=\"1\" class=\"dataframe\">\n",
       "  <thead>\n",
       "    <tr style=\"text-align: right;\">\n",
       "      <th></th>\n",
       "      <th>x</th>\n",
       "      <th>y</th>\n",
       "    </tr>\n",
       "    <tr>\n",
       "      <th>name</th>\n",
       "      <th></th>\n",
       "      <th></th>\n",
       "    </tr>\n",
       "  </thead>\n",
       "  <tbody>\n",
       "    <tr>\n",
       "      <th>oseries1</th>\n",
       "      <td>165000.0</td>\n",
       "      <td>424000.0</td>\n",
       "    </tr>\n",
       "    <tr>\n",
       "      <th>oseries2</th>\n",
       "      <td>164000.0</td>\n",
       "      <td>423000.0</td>\n",
       "    </tr>\n",
       "    <tr>\n",
       "      <th>oseries3</th>\n",
       "      <td>165554.0</td>\n",
       "      <td>422685.0</td>\n",
       "    </tr>\n",
       "    <tr>\n",
       "      <th>head_nb5</th>\n",
       "      <td>200000.0</td>\n",
       "      <td>450000.0</td>\n",
       "    </tr>\n",
       "    <tr>\n",
       "      <th>head_mw</th>\n",
       "      <td>85850.0</td>\n",
       "      <td>383362.0</td>\n",
       "    </tr>\n",
       "  </tbody>\n",
       "</table>\n",
       "</div>"
      ],
      "text/plain": [
       "                 x         y\n",
       "name                        \n",
       "oseries1  165000.0  424000.0\n",
       "oseries2  164000.0  423000.0\n",
       "oseries3  165554.0  422685.0\n",
       "head_nb5  200000.0  450000.0\n",
       "head_mw    85850.0  383362.0"
      ]
     },
     "execution_count": 6,
     "metadata": {},
     "output_type": "execute_result"
    }
   ],
   "source": [
    "pstore.oseries"
   ]
  },
  {
   "cell_type": "markdown",
   "metadata": {},
   "source": [
    "### [Building model(s) from a YAML file](#Contents)"
   ]
  },
  {
   "cell_type": "code",
   "execution_count": 7,
   "metadata": {},
   "outputs": [
    {
     "name": "stderr",
     "output_type": "stream",
     "text": [
      "INFO:pastastore.yaml_interface:Building model 'my_first_model' for oseries 'oseries1'\n",
      "INFO:pastastore.yaml_interface:| parsing stressmodel: 'recharge'\n"
     ]
    },
    {
     "data": {
      "text/plain": [
       "Model(oseries=oseries1, name=my_first_model, constant=True, noisemodel=False)"
      ]
     },
     "execution_count": 7,
     "metadata": {},
     "output_type": "execute_result"
    }
   ],
   "source": [
    "my_first_yaml = \"\"\"\n",
    "my_first_model:                   # model name\n",
    "  oseries: oseries1               # head time series name, obtained from pastastore\n",
    "  stressmodels:                   # stressmodels dictionary\n",
    "    recharge:                     # name of the recharge stressmodel\n",
    "      class: RechargeModel        # type of pastas StressModel\n",
    "      prec: prec1                 # name of precipitation stress, from pastastore\n",
    "      evap: evap1                 # name of evaporation stress, from pastastore\n",
    "      recharge: Linear            # pastas recharge type\n",
    "      rfunc: Exponential          # response function\n",
    "\"\"\"\n",
    "\n",
    "with tempyaml(my_first_yaml) as f:\n",
    "    ml = pstore.yaml.load(f)[0]  # returns a list\n",
    "\n",
    "ml"
   ]
  },
  {
   "cell_type": "code",
   "execution_count": 8,
   "metadata": {},
   "outputs": [],
   "source": [
    "ml.solve(report=False)\n",
    "_ = ml.plots.results()"
   ]
  },
  {
   "cell_type": "markdown",
   "metadata": {},
   "source": [
    "A YAML file can contain multiple models"
   ]
  },
  {
   "cell_type": "code",
   "execution_count": null,
   "metadata": {},
   "outputs": [],
   "source": [
    "my_multi_model_yaml = \"\"\"\n",
    "my_first_model:                   # model name\n",
    "  oseries: oseries1               # head time series name, obtained from pastastore\n",
    "  stressmodels:                   # stressmodels dictionary\n",
    "    recharge:                     # name of the recharge stressmodel\n",
    "      class: RechargeModel        # type of pastas StressModel\n",
    "      prec: prec1                 # name of precipitation stress, from pastastore\n",
    "      evap: evap1                 # name of evaporation stress, from pastastore\n",
    "      recharge: Linear            # pastas recharge type\n",
    "      rfunc: Exponential          # response function\n",
    "      \n",
    "my_second_model:                  # model name\n",
    "  oseries: oseries1               # head time series name, obtained from pastastore\n",
    "  stressmodels:                   # stressmodels dictionary\n",
    "    recharge:                     # name of the recharge stressmodel\n",
    "      class: RechargeModel        # type of pastas StressModel\n",
    "      prec: prec1                 # name of precipitation stress, from pastastore\n",
    "      evap: evap1                 # name of evaporation stress, from pastastore\n",
    "      recharge: FlexModel         # pastas recharge type\n",
    "      rfunc: Exponential          # response function\n",
    "\"\"\""
   ]
  },
  {
   "cell_type": "code",
   "execution_count": null,
   "metadata": {},
   "outputs": [],
   "source": [
    "with tempyaml(my_multi_model_yaml) as f:\n",
    "    models = pstore.yaml.load(f)\n",
    "\n",
    "models"
   ]
  },
  {
   "cell_type": "markdown",
   "metadata": {},
   "source": [
    "Note that these models are not automatically added to the PastaStore. They are only created. To store them use `PastaStore.add_model`."
   ]
  },
  {
   "cell_type": "code",
   "execution_count": null,
   "metadata": {},
   "outputs": [],
   "source": [
    "for ml in models:\n",
    "    pstore.add_model(ml)"
   ]
  },
  {
   "cell_type": "code",
   "execution_count": null,
   "metadata": {},
   "outputs": [],
   "source": [
    "pstore"
   ]
  },
  {
   "cell_type": "markdown",
   "metadata": {},
   "source": [
    "### [Writing model(s) to a YAML file](#Contents)\n",
    "\n",
    "Writing an existing model to a YAML file is done with `PastaStore.yaml.export_model()`. The resulting YAML file contains a lot more information as all model information is stored in the file, similar to saving a model as `.pas`-file with `ml.to_file()`. It can be useful to take a look at this file as a template for writing your own YAML files. "
   ]
  },
  {
   "cell_type": "code",
   "execution_count": null,
   "metadata": {},
   "outputs": [],
   "source": [
    "pstore.yaml.export_model(ml)"
   ]
  },
  {
   "cell_type": "markdown",
   "metadata": {},
   "source": [
    "The YAML file can be simplified with the `minimal_yaml` keyword argument.\n",
    "\n",
    "<div class=\"alert alert-block alert-info\">\n",
    "<b>Warning:</b> Using the `minimal_yaml=True` option can lead to a different model than the one being exported as certain important model settings might have been removed in the resulting YAML file. Use with care!\n",
    "</div>"
   ]
  },
  {
   "cell_type": "code",
   "execution_count": null,
   "metadata": {},
   "outputs": [],
   "source": [
    "ml.name = ml.name + \"_minimal\"\n",
    "pstore.yaml.export_model(ml, minimal_yaml=True)"
   ]
  },
  {
   "attachments": {},
   "cell_type": "markdown",
   "metadata": {},
   "source": [
    "Additionally, the `use_nearest` option fills in `\"nearest <n> <kind>\"` instead of the names of the time series, filling in `<n>` and `<kind>` where possible. This option is only used when `minimal_yaml=True`.\n",
    "\n",
    "<div class=\"alert alert-block alert-info\">\n",
    "<b>Warning:</b> This option does not check whether the time series are actually nearest, it simply fills in \"nearest\" for all stresses and fills in \"kind\" where possible.\n",
    "</div>"
   ]
  },
  {
   "cell_type": "code",
   "execution_count": null,
   "metadata": {},
   "outputs": [],
   "source": [
    "ml.name = ml.name + \"_nearest\"\n",
    "pstore.yaml.export_model(ml, minimal_yaml=True, use_nearest=True)"
   ]
  },
  {
   "cell_type": "markdown",
   "metadata": {},
   "source": [
    "The models can als be written to a single YAML-file using `PastaStore.yaml.export_models()`. The `split=False` kwarg forces all models to be written to the same file."
   ]
  },
  {
   "cell_type": "code",
   "execution_count": null,
   "metadata": {},
   "outputs": [],
   "source": [
    "pstore.yaml.export_models(models=models, split=False)"
   ]
  },
  {
   "attachments": {},
   "cell_type": "markdown",
   "metadata": {},
   "source": [
    "### \"Nearest\" options for time series\n",
    "\n",
    "The YAML file format introduces some useful features that leverage useful tools in PastaStore. Instead of explicitly defining the time series to use for a particular stressmodel, there is a `nearest` option. Note that this requires the metadata of the time series in the PastaStore to be properly defined, with `x` and `y` coordinates for all time series.\n",
    "\n",
    "First let's revisit the first example YAML file, but this time use the \"nearest\" option to select the precipitation and evaporation time series. After nearest the `kind` identifier is supplied to tell the PastaStore which types of stresses to consider when looking for the nearest one."
   ]
  },
  {
   "cell_type": "code",
   "execution_count": null,
   "metadata": {},
   "outputs": [],
   "source": [
    "nearest_yaml = \"\"\"\n",
    "my_first_model:                   # model name\n",
    "  oseries: oseries1               # head time series name, obtained from pastastore\n",
    "  stressmodels:                   # stressmodels dictionary\n",
    "    recharge:                     # name of the recharge stressmodel\n",
    "      class: RechargeModel        # type of pastas StressModel\n",
    "      prec: nearest prec          # nearest stress with kind=\"prec\", from pastastore\n",
    "      evap: nearest evap          # nearest stress with kind=\"evap\", from pastastore\n",
    "      recharge: Linear            # pastas recharge type\n",
    "      rfunc: Exponential          # response function\n",
    "\"\"\"\n",
    "\n",
    "with tempyaml(nearest_yaml) as f:\n",
    "    ml = pstore.yaml.load(f)[0]  # returns a list\n",
    "\n",
    "ml"
   ]
  },
  {
   "cell_type": "markdown",
   "metadata": {},
   "source": [
    "The nearest option is parsed depending on the type of stressmodel. Generally, the form is `nearest <kind>`, but for the RechargeModel, just providing `nearest` will assume the kind is `kind=\"prec\"` or `kind=\"evap\"`.\n",
    "\n",
    "For WellModel, the number of nearest stresses can be passed as well, e.g. `nearest <n> <kind>`.\n",
    "\n",
    "The following examples illustrate this:"
   ]
  },
  {
   "cell_type": "code",
   "execution_count": null,
   "metadata": {},
   "outputs": [],
   "source": [
    "full_nearest_yaml = \"\"\"\n",
    "nearest_model_1:                  # model name\n",
    "  oseries: head_nb5               # head time series name, obtained from pastastore\n",
    "  stressmodels:                   # stressmodels dictionary\n",
    "    recharge:                     # name of the recharge stressmodel\n",
    "      class: RechargeModel        # type of pastas stressmodel\n",
    "      prec: nearest               # nearest stress with kind=\"prec\", from pastastore\n",
    "      evap: nearest evap          # nearest stress with kind=\"evap\", from pastastore\n",
    "      recharge: Linear            # pastas recharge type\n",
    "      rfunc: Exponential          # response function\n",
    "    river:                        # name for river stressmodel\n",
    "      class: StressModel          # type of pastas stressmodel\n",
    "      stress: nearest riv         # nearest stress with kind=\"riv\", from pastastore\n",
    "      rfunc: One                  # response function\n",
    "      settings: level             # time series settings\n",
    "      \n",
    "      \n",
    "nearest_model_2:\n",
    "  oseries: head_mw\n",
    "  stressmodels:                   \n",
    "    recharge:                     \n",
    "      class: RechargeModel  \n",
    "      prec: nearest               \n",
    "      evap: nearest evap          \n",
    "      recharge: Linear            \n",
    "      rfunc: Exponential          \n",
    "    wells:                        \n",
    "      class: WellModel    \n",
    "      stress: nearest 2 well         \n",
    "      rfunc: HantushWellModel\n",
    "      up: False\n",
    "\"\"\""
   ]
  },
  {
   "cell_type": "code",
   "execution_count": null,
   "metadata": {},
   "outputs": [],
   "source": [
    "pstore.oseries"
   ]
  },
  {
   "cell_type": "code",
   "execution_count": null,
   "metadata": {},
   "outputs": [],
   "source": [
    "with tempyaml(full_nearest_yaml) as f:\n",
    "    models = pstore.yaml.load(f)  # returns a list"
   ]
  },
  {
   "cell_type": "code",
   "execution_count": null,
   "metadata": {},
   "outputs": [],
   "source": [
    "ml = models[0]"
   ]
  },
  {
   "cell_type": "code",
   "execution_count": null,
   "metadata": {},
   "outputs": [],
   "source": [
    "ml.solve(report=False)\n",
    "ml.plots.results()"
   ]
  },
  {
   "attachments": {},
   "cell_type": "markdown",
   "metadata": {
    "tags": []
   },
   "source": [
    "### [Defaults](#Contents)\n",
    "\n",
    "The Pastastore YAML interface adds some additional defaults as compared to pastas. These defaults allow the user to only provide only certain information in a YAML file in order to construct a model. These defaults are determined based on commonly used options. It should be noted that these defaults are not necessarily appropriate in all situations, and it is highly recommended to try different models with different options. These defaults are therefore implemented to facilitate building models, but should not be deemed holy.\n",
    "\n",
    "The YAML interface mostly uses the Pastas defaults, but adds some additional logic for stressmodels. When default settings implemented in the YAML interface are implemented, this is logged to the console.\n",
    "\n",
    "- **RechargeModel**:\n",
    "    - If stressmodel name is one of \"rch\", \"rech\", \"recharge\", or \"rechargemodel\", assume stressmodel type is RechargeModel.\n",
    "    - If no \"prec\" or \"evap\" keys are provided for RechargeModel, use the \"nearest\" option. \n",
    "    - Default rfunc for RechargeModel is \"Exponential\".\n",
    "    - prec: accepts `nearest` or `nearest <kind>`, if only `nearest` is provided, stresses in PastaStore must be labelled with kind=\"prec\"\n",
    "    - evap: accepts `nearest` or `nearest <kind>`, if only `nearest` is provided, stresses in PastaStore must be labelled with kind=\"evap\"\n",
    "- **StressModel**:\n",
    "    - If no \"stressmodel\" key is contained in dictionary, assume stressmodel type is StressModel\n",
    "    - Default rfunc for StressModel is \"Gamma\".\n",
    "    - stress: accepts `nearest` or `nearest <kind>`, if only \"nearest\" is provided, uses whichever stress is nearest.\n",
    "- **WellModel**:\n",
    "    - Default rfunc for WellModel is \"HantushWellModel\".\n",
    "    - If \"up\" is not provided, assume up=False, i.e. positive discharge time series indicates pumping.\n",
    "    - stress: accepts `nearest`, `nearest <n>` and `nearest <n> <kind>`, where n is the number of wells to add. If kind is not passed, stresses must be labelled with kind=\"well\" in PastaStore. If n is not passed, assumes n=1."
   ]
  },
  {
   "cell_type": "markdown",
   "metadata": {},
   "source": [
    "This is the shortest possible YAML file for a model with recharge, that makes use of all of the defaults for RechargeModel:"
   ]
  },
  {
   "cell_type": "code",
   "execution_count": null,
   "metadata": {},
   "outputs": [],
   "source": [
    "minimal_yaml = \"\"\"\n",
    "ml_minimal:\n",
    "  oseries: oseries2\n",
    "  stressmodels:\n",
    "    recharge:\n",
    "\"\"\""
   ]
  },
  {
   "cell_type": "markdown",
   "metadata": {},
   "source": [
    "Note that the YAML load method recognizes the stressmodel name \"recharge\" and assumes the type of stress model should be RechargeModel. Additionally note the defaults as no other information is provided.\n",
    "- prec --> nearest stress with kind=\"prec\"\n",
    "- evap --> nearest stress with kind=\"evap\"\n",
    "- recharge --> Linear\n",
    "- rfunc --> Exponential"
   ]
  },
  {
   "cell_type": "code",
   "execution_count": null,
   "metadata": {},
   "outputs": [],
   "source": [
    "with tempyaml(minimal_yaml) as f:\n",
    "    ml = pstore.yaml.load(f)[0]  # returns a list"
   ]
  },
  {
   "cell_type": "code",
   "execution_count": null,
   "metadata": {},
   "outputs": [],
   "source": [
    "ml.solve(report=False)\n",
    "_ = ml.plots.results()"
   ]
  },
  {
   "cell_type": "markdown",
   "metadata": {},
   "source": [
    "## [More examples](#Contents)"
   ]
  },
  {
   "cell_type": "code",
   "execution_count": null,
   "metadata": {},
   "outputs": [],
   "source": [
    "yaml_examples = \"\"\"\n",
    "# Pastas YAML example file\n",
    "# ------------------------\n",
    "\n",
    "# 1. Explicitly provide oseries, stresses names rfunc and\n",
    "#    recharge type.\n",
    "\n",
    "ml_explicit:\n",
    "  settings:\n",
    "    freq: D\n",
    "  oseries: oseries1\n",
    "  stressmodels:\n",
    "    recharge:\n",
    "      class: RechargeModel\n",
    "      prec: prec1\n",
    "      evap: evap1\n",
    "      rfunc: Exponential\n",
    "      recharge: Linear\n",
    "\n",
    "# 2. Provide oseries, stresses names but use defaults for\n",
    "#    other settings:\n",
    "\n",
    "ml_stresses:\n",
    "  oseries: oseries1\n",
    "  stressmodels:\n",
    "    recharge:\n",
    "      prec: prec1\n",
    "      evap: evap1\n",
    "\n",
    "# 3. Use \"nearest\" to obtain nearest precipitation and evaporation\n",
    "#    time series. Requires x, y data to be present in oseries and\n",
    "#    stresses metadata.\n",
    "\n",
    "ml_nearest:\n",
    "  oseries: oseries1\n",
    "  stressmodels:\n",
    "    recharge:\n",
    "      prec: nearest prec\n",
    "      evap: nearest\n",
    "\"\"\""
   ]
  },
  {
   "cell_type": "code",
   "execution_count": null,
   "metadata": {},
   "outputs": [],
   "source": [
    "with tempyaml(yaml_examples) as f:\n",
    "    models = pstore.yaml.load(f)  # returns a list"
   ]
  },
  {
   "attachments": {},
   "cell_type": "markdown",
   "metadata": {},
   "source": [
    "The first and last models are identical, except for the name obviously. The second one is also the same, but is not shown below."
   ]
  },
  {
   "cell_type": "code",
   "execution_count": null,
   "metadata": {},
   "outputs": [],
   "source": [
    "pst.util.compare_models(models[0], models[-1], detailed_comparison=True)"
   ]
  },
  {
   "cell_type": "markdown",
   "metadata": {},
   "source": [
    "Clean up the written YAML files."
   ]
  },
  {
   "cell_type": "code",
   "execution_count": null,
   "metadata": {},
   "outputs": [],
   "source": [
    "for f in [fi for fi in os.listdir(\".\") if fi.endswith(\".yaml\")]:\n",
    "    os.remove(f)"
   ]
  },
  {
   "cell_type": "code",
   "execution_count": null,
   "metadata": {},
   "outputs": [],
   "source": []
  }
 ],
 "metadata": {
  "kernelspec": {
   "display_name": "artesia",
   "language": "python",
   "name": "python3"
  },
  "language_info": {
   "codemirror_mode": {
    "name": "ipython",
    "version": 3
   },
   "file_extension": ".py",
   "mimetype": "text/x-python",
   "name": "python",
   "nbconvert_exporter": "python",
   "pygments_lexer": "ipython3",
   "version": "3.10.12"
  },
  "vscode": {
   "interpreter": {
    "hash": "dace5e1b41a98a8e52d2a8eebc3b981caf2c12e7a76736ebfb89a489e3b62e79"
   }
  }
 },
 "nbformat": 4,
 "nbformat_minor": 4
}
